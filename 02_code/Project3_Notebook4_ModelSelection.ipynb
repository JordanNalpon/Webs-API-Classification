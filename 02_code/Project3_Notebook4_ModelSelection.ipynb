{
 "cells": [
  {
   "cell_type": "markdown",
   "metadata": {},
   "source": [
    "# General Assembly - Project 3:  Webs API & Classification\n",
    "## Notebook 4: Model Selection\n",
    "### DSI19 / Jordan David Nalpon"
   ]
  },
  {
   "cell_type": "markdown",
   "metadata": {},
   "source": [
    "### Notebook 3 Index\n",
    "---\n",
    "* [Import Libraries](#lib)\n",
    "* [Import CSV Files](#csv)\n",
    "* [Grid Search](#grid)\n",
    "    * [Grid Search - Count Vectorize](#cv)\n",
    "    * [Grid Search - TF-IDF](#idf)\n",
    " \n",
    "* [Results](#results)\n",
    "* [Model Selection](#model)\n",
    "* [Conclusion](#Conclusion)\n",
    "---\n",
    "<a name=\"index\"></a>"
   ]
  },
  {
   "cell_type": "markdown",
   "metadata": {},
   "source": [
    "<a name=\"lib\"></a>\n",
    "### Import Libraries"
   ]
  },
  {
   "cell_type": "code",
   "execution_count": 62,
   "metadata": {},
   "outputs": [],
   "source": [
    "import requests\n",
    "import time\n",
    "import pandas as pd\n",
    "import numpy as np\n",
    "import ast\n",
    "import re\n",
    "from tqdm import tqdm\n",
    "import matplotlib.pyplot as plt\n",
    "import seaborn as sns\n",
    "\n",
    "from nltk.tokenize import RegexpTokenizer\n",
    "from nltk.stem import WordNetLemmatizer\n",
    "from nltk.stem.porter import PorterStemmer\n",
    "from sklearn.feature_extraction.text import TfidfVectorizer, CountVectorizer\n",
    "\n",
    "from sklearn.model_selection import GridSearchCV, train_test_split, cross_val_score\n",
    "from sklearn.pipeline import Pipeline\n",
    "from sklearn.preprocessing import StandardScaler\n",
    "from sklearn.linear_model import LogisticRegression\n",
    "from sklearn.neighbors import KNeighborsClassifier\n",
    "from sklearn.naive_bayes import MultinomialNB\n",
    "from sklearn.tree import DecisionTreeClassifier\n",
    "from sklearn.ensemble import BaggingClassifier, RandomForestClassifier, \\\n",
    "    GradientBoostingClassifier, AdaBoostClassifier, VotingClassifier\n",
    "from sklearn.metrics import confusion_matrix, accuracy_score\n",
    "from sklearn.preprocessing import MinMaxScaler"
   ]
  },
  {
   "cell_type": "markdown",
   "metadata": {},
   "source": [
    "<a name=\"csv\"></a>\n",
    "### Import CSV"
   ]
  },
  {
   "cell_type": "code",
   "execution_count": 2,
   "metadata": {},
   "outputs": [],
   "source": [
    "X_train = pd.read_csv('../01_data/notebook3_X_train.csv')\n",
    "X_test = pd.read_csv('../01_data/notebook3_X_test.csv')\n",
    "y_train = pd.read_csv('../01_data/notebook3_y_train.csv')\n",
    "y_test = pd.read_csv('../01_data/notebook3_y_test.csv')"
   ]
  },
  {
   "cell_type": "code",
   "execution_count": 3,
   "metadata": {},
   "outputs": [
    {
     "data": {
      "text/html": [
       "<div>\n",
       "<style scoped>\n",
       "    .dataframe tbody tr th:only-of-type {\n",
       "        vertical-align: middle;\n",
       "    }\n",
       "\n",
       "    .dataframe tbody tr th {\n",
       "        vertical-align: top;\n",
       "    }\n",
       "\n",
       "    .dataframe thead th {\n",
       "        text-align: right;\n",
       "    }\n",
       "</style>\n",
       "<table border=\"1\" class=\"dataframe\">\n",
       "  <thead>\n",
       "    <tr style=\"text-align: right;\">\n",
       "      <th></th>\n",
       "      <th>Unnamed: 0</th>\n",
       "      <th>stem</th>\n",
       "      <th>lem</th>\n",
       "    </tr>\n",
       "  </thead>\n",
       "  <tbody>\n",
       "    <tr>\n",
       "      <th>0</th>\n",
       "      <td>1832</td>\n",
       "      <td>i eam that i kiss someon new it' silli i know ...</td>\n",
       "      <td>i eamed that i kissed someone new it's silly i...</td>\n",
       "    </tr>\n",
       "    <tr>\n",
       "      <th>1</th>\n",
       "      <td>1590</td>\n",
       "      <td>as a kid i actual like have my mom take my tem...</td>\n",
       "      <td>as a kid i actually liked having my mom take m...</td>\n",
       "    </tr>\n",
       "    <tr>\n",
       "      <th>2</th>\n",
       "      <td>1739</td>\n",
       "      <td>dig up my great great grandfather' grave for h...</td>\n",
       "      <td>digging up my great great grandfather's grave ...</td>\n",
       "    </tr>\n",
       "    <tr>\n",
       "      <th>3</th>\n",
       "      <td>758</td>\n",
       "      <td>by not know that testicular torsion wa not pa...</td>\n",
       "      <td>by not knowing that testicular torsion was no...</td>\n",
       "    </tr>\n",
       "    <tr>\n",
       "      <th>4</th>\n",
       "      <td>1425</td>\n",
       "      <td>i ve hook up with my fiancé s best man and one...</td>\n",
       "      <td>i ve hooked up with my fiancé s best mans and ...</td>\n",
       "    </tr>\n",
       "  </tbody>\n",
       "</table>\n",
       "</div>"
      ],
      "text/plain": [
       "   Unnamed: 0                                               stem  \\\n",
       "0        1832  i eam that i kiss someon new it' silli i know ...   \n",
       "1        1590  as a kid i actual like have my mom take my tem...   \n",
       "2        1739  dig up my great great grandfather' grave for h...   \n",
       "3         758   by not know that testicular torsion wa not pa...   \n",
       "4        1425  i ve hook up with my fiancé s best man and one...   \n",
       "\n",
       "                                                 lem  \n",
       "0  i eamed that i kissed someone new it's silly i...  \n",
       "1  as a kid i actually liked having my mom take m...  \n",
       "2  digging up my great great grandfather's grave ...  \n",
       "3   by not knowing that testicular torsion was no...  \n",
       "4  i ve hooked up with my fiancé s best mans and ...  "
      ]
     },
     "execution_count": 3,
     "metadata": {},
     "output_type": "execute_result"
    }
   ],
   "source": [
    "X_train.head()"
   ]
  },
  {
   "cell_type": "code",
   "execution_count": 4,
   "metadata": {},
   "outputs": [
    {
     "data": {
      "text/plain": [
       "(1488, 3)"
      ]
     },
     "execution_count": 4,
     "metadata": {},
     "output_type": "execute_result"
    }
   ],
   "source": [
    "X_train.shape"
   ]
  },
  {
   "cell_type": "code",
   "execution_count": 5,
   "metadata": {},
   "outputs": [
    {
     "data": {
      "text/html": [
       "<div>\n",
       "<style scoped>\n",
       "    .dataframe tbody tr th:only-of-type {\n",
       "        vertical-align: middle;\n",
       "    }\n",
       "\n",
       "    .dataframe tbody tr th {\n",
       "        vertical-align: top;\n",
       "    }\n",
       "\n",
       "    .dataframe thead th {\n",
       "        text-align: right;\n",
       "    }\n",
       "</style>\n",
       "<table border=\"1\" class=\"dataframe\">\n",
       "  <thead>\n",
       "    <tr style=\"text-align: right;\">\n",
       "      <th></th>\n",
       "      <th>Unnamed: 0</th>\n",
       "      <th>is_tifu</th>\n",
       "    </tr>\n",
       "  </thead>\n",
       "  <tbody>\n",
       "    <tr>\n",
       "      <th>0</th>\n",
       "      <td>1832</td>\n",
       "      <td>0</td>\n",
       "    </tr>\n",
       "    <tr>\n",
       "      <th>1</th>\n",
       "      <td>1590</td>\n",
       "      <td>0</td>\n",
       "    </tr>\n",
       "    <tr>\n",
       "      <th>2</th>\n",
       "      <td>1739</td>\n",
       "      <td>0</td>\n",
       "    </tr>\n",
       "    <tr>\n",
       "      <th>3</th>\n",
       "      <td>758</td>\n",
       "      <td>1</td>\n",
       "    </tr>\n",
       "    <tr>\n",
       "      <th>4</th>\n",
       "      <td>1425</td>\n",
       "      <td>0</td>\n",
       "    </tr>\n",
       "  </tbody>\n",
       "</table>\n",
       "</div>"
      ],
      "text/plain": [
       "   Unnamed: 0  is_tifu\n",
       "0        1832        0\n",
       "1        1590        0\n",
       "2        1739        0\n",
       "3         758        1\n",
       "4        1425        0"
      ]
     },
     "execution_count": 5,
     "metadata": {},
     "output_type": "execute_result"
    }
   ],
   "source": [
    "y_train.head()"
   ]
  },
  {
   "cell_type": "code",
   "execution_count": 6,
   "metadata": {},
   "outputs": [
    {
     "data": {
      "text/html": [
       "<div>\n",
       "<style scoped>\n",
       "    .dataframe tbody tr th:only-of-type {\n",
       "        vertical-align: middle;\n",
       "    }\n",
       "\n",
       "    .dataframe tbody tr th {\n",
       "        vertical-align: top;\n",
       "    }\n",
       "\n",
       "    .dataframe thead th {\n",
       "        text-align: right;\n",
       "    }\n",
       "</style>\n",
       "<table border=\"1\" class=\"dataframe\">\n",
       "  <thead>\n",
       "    <tr style=\"text-align: right;\">\n",
       "      <th></th>\n",
       "      <th>Unnamed: 0</th>\n",
       "      <th>is_tifu</th>\n",
       "    </tr>\n",
       "  </thead>\n",
       "  <tbody>\n",
       "    <tr>\n",
       "      <th>0</th>\n",
       "      <td>826</td>\n",
       "      <td>1</td>\n",
       "    </tr>\n",
       "    <tr>\n",
       "      <th>1</th>\n",
       "      <td>1458</td>\n",
       "      <td>0</td>\n",
       "    </tr>\n",
       "    <tr>\n",
       "      <th>2</th>\n",
       "      <td>144</td>\n",
       "      <td>1</td>\n",
       "    </tr>\n",
       "    <tr>\n",
       "      <th>3</th>\n",
       "      <td>907</td>\n",
       "      <td>1</td>\n",
       "    </tr>\n",
       "    <tr>\n",
       "      <th>4</th>\n",
       "      <td>1683</td>\n",
       "      <td>0</td>\n",
       "    </tr>\n",
       "  </tbody>\n",
       "</table>\n",
       "</div>"
      ],
      "text/plain": [
       "   Unnamed: 0  is_tifu\n",
       "0         826        1\n",
       "1        1458        0\n",
       "2         144        1\n",
       "3         907        1\n",
       "4        1683        0"
      ]
     },
     "execution_count": 6,
     "metadata": {},
     "output_type": "execute_result"
    }
   ],
   "source": [
    "y_test.head()"
   ]
  },
  {
   "cell_type": "code",
   "execution_count": 7,
   "metadata": {},
   "outputs": [],
   "source": [
    "#remove Unnamed column\n",
    "X_train.drop(['Unnamed: 0'], axis = 1, inplace = True)\n",
    "X_test.drop(['Unnamed: 0'], axis = 1, inplace = True)\n",
    "y_train.drop(['Unnamed: 0'], axis = 1, inplace = True)\n",
    "y_test.drop(['Unnamed: 0'], axis = 1, inplace = True)"
   ]
  },
  {
   "cell_type": "code",
   "execution_count": 8,
   "metadata": {},
   "outputs": [
    {
     "name": "stdout",
     "output_type": "stream",
     "text": [
      "(1488, 2)\n",
      "(496, 2)\n",
      "(1488, 1)\n",
      "(496, 1)\n"
     ]
    }
   ],
   "source": [
    "print(X_train.shape)\n",
    "print(X_test.shape)\n",
    "print(y_train.shape)\n",
    "print(y_test.shape)"
   ]
  },
  {
   "cell_type": "markdown",
   "metadata": {},
   "source": [
    "<a name=\"grid\"></a>\n",
    "## Grid Search"
   ]
  },
  {
   "cell_type": "markdown",
   "metadata": {},
   "source": [
    "### Gridsearch - Count Vectorize<a name=\"cv\"></a>"
   ]
  },
  {
   "cell_type": "code",
   "execution_count": 9,
   "metadata": {},
   "outputs": [],
   "source": [
    "steps_list_gr_cv= [\n",
    "    [('cv',CountVectorizer()),('scaler',StandardScaler(with_mean=False)),('knn',KNeighborsClassifier())], \n",
    "    [('cv',CountVectorizer()),('scaler',StandardScaler(with_mean=False)),('logreg',LogisticRegression())],\n",
    "    [('cv',CountVectorizer()),('multi_nb',MultinomialNB())],\n",
    "]"
   ]
  },
  {
   "cell_type": "code",
   "execution_count": 10,
   "metadata": {},
   "outputs": [],
   "source": [
    "steps_titles = ['knn','logreg','multi_nb']"
   ]
  },
  {
   "cell_type": "code",
   "execution_count": 11,
   "metadata": {},
   "outputs": [],
   "source": [
    "pipe_params_cv = [\n",
    "    {\"cv__stop_words\":['english'], \"cv__ngram_range\":[(1,1),(1,2)]},\n",
    "    {\"cv__stop_words\":['english'], \"cv__ngram_range\":[(1,1),(1,2)]},\n",
    "    {\"cv__stop_words\":['english'], \"cv__ngram_range\":[(1,1),(1,2)]}\n",
    "]"
   ]
  },
  {
   "cell_type": "code",
   "execution_count": 12,
   "metadata": {},
   "outputs": [
    {
     "data": {
      "text/html": [
       "<div>\n",
       "<style scoped>\n",
       "    .dataframe tbody tr th:only-of-type {\n",
       "        vertical-align: middle;\n",
       "    }\n",
       "\n",
       "    .dataframe tbody tr th {\n",
       "        vertical-align: top;\n",
       "    }\n",
       "\n",
       "    .dataframe thead th {\n",
       "        text-align: right;\n",
       "    }\n",
       "</style>\n",
       "<table border=\"1\" class=\"dataframe\">\n",
       "  <thead>\n",
       "    <tr style=\"text-align: right;\">\n",
       "      <th></th>\n",
       "      <th>model</th>\n",
       "      <th>best_params</th>\n",
       "      <th>train_accuracy</th>\n",
       "      <th>test_accuracy</th>\n",
       "      <th>tn</th>\n",
       "      <th>fp</th>\n",
       "      <th>fn</th>\n",
       "      <th>tp</th>\n",
       "    </tr>\n",
       "  </thead>\n",
       "  <tbody>\n",
       "  </tbody>\n",
       "</table>\n",
       "</div>"
      ],
      "text/plain": [
       "Empty DataFrame\n",
       "Columns: [model, best_params, train_accuracy, test_accuracy, tn, fp, fn, tp]\n",
       "Index: []"
      ]
     },
     "execution_count": 12,
     "metadata": {},
     "output_type": "execute_result"
    }
   ],
   "source": [
    "grid_results = pd.DataFrame(columns=['model','best_params','train_accuracy','test_accuracy','tn','fp','fn','tp'])\n",
    "grid_results.head()"
   ]
  },
  {
   "cell_type": "code",
   "execution_count": 13,
   "metadata": {},
   "outputs": [],
   "source": [
    "X_train_pre_post = X_train['lem']\n",
    "X_test_pre_post = X_test['lem']"
   ]
  },
  {
   "cell_type": "code",
   "execution_count": 14,
   "metadata": {},
   "outputs": [
    {
     "name": "stderr",
     "output_type": "stream",
     "text": [
      "\r",
      "  0%|          | 0/3 [00:00<?, ?it/s]"
     ]
    },
    {
     "name": "stdout",
     "output_type": "stream",
     "text": [
      "Model:  knn\n",
      "Best Params:  {'cv__ngram_range': (1, 1), 'cv__stop_words': 'english'}\n",
      "0.49731182795698925 \n",
      "\n",
      "0.49798387096774194 \n",
      "\n"
     ]
    },
    {
     "name": "stderr",
     "output_type": "stream",
     "text": [
      "\r",
      " 33%|███▎      | 1/3 [00:04<00:08,  4.40s/it]"
     ]
    },
    {
     "name": "stdout",
     "output_type": "stream",
     "text": [
      "True Negatives: 247\n",
      "False Positives: 0\n",
      "False Negatives: 249\n",
      "True Positives: 0 \n",
      "\n",
      "Model:  logreg\n",
      "Best Params:  {'cv__ngram_range': (1, 1), 'cv__stop_words': 'english'}\n",
      "1.0 \n",
      "\n"
     ]
    },
    {
     "name": "stderr",
     "output_type": "stream",
     "text": [
      "\r",
      " 67%|██████▋   | 2/3 [00:12<00:06,  6.49s/it]"
     ]
    },
    {
     "name": "stdout",
     "output_type": "stream",
     "text": [
      "0.8588709677419355 \n",
      "\n",
      "True Negatives: 225\n",
      "False Positives: 22\n",
      "False Negatives: 48\n",
      "True Positives: 201 \n",
      "\n",
      "Model:  multi_nb\n",
      "Best Params:  {'cv__ngram_range': (1, 1), 'cv__stop_words': 'english'}\n",
      "0.9549731182795699 \n",
      "\n"
     ]
    },
    {
     "name": "stderr",
     "output_type": "stream",
     "text": [
      "100%|██████████| 3/3 [00:15<00:00,  5.12s/it]"
     ]
    },
    {
     "name": "stdout",
     "output_type": "stream",
     "text": [
      "0.8326612903225806 \n",
      "\n",
      "True Negatives: 192\n",
      "False Positives: 55\n",
      "False Negatives: 28\n",
      "True Positives: 221 \n",
      "\n"
     ]
    },
    {
     "name": "stderr",
     "output_type": "stream",
     "text": [
      "\n"
     ]
    }
   ],
   "source": [
    "for i in tqdm(range(len(steps_list_gr_cv))):           # timed loop through index of number of steps\n",
    "    pipe = Pipeline(steps=steps_list_gr_cv[i])         # configure pipeline for each model\n",
    "    grid = GridSearchCV(pipe, pipe_params_cv[i], cv=3) # fit GridSearchCV to model and model's params\n",
    "\n",
    "    model_results = {}\n",
    "\n",
    "    grid.fit(X_train_pre_post, y_train.values.ravel())\n",
    "    \n",
    "    print('Model: ',steps_titles[i])\n",
    "    model_results['model'] = steps_titles[i]\n",
    "\n",
    "    print('Best Params: ', grid.best_params_)\n",
    "    model_results['best_params'] = grid.best_params_\n",
    "\n",
    "    print(grid.score(X_train_pre_post, y_train), '\\n')\n",
    "    model_results['train_accuracy'] = grid.score(X_train_pre_post, y_train)\n",
    "    \n",
    "    print(grid.score(X_test_pre_post, y_test), '\\n')\n",
    "    model_results['test_accuracy'] = grid.score(X_test_pre_post, y_test)\n",
    "\n",
    "    # Display the confusion matrix results showing true/false positive/negative\n",
    "    tn, fp, fn, tp = confusion_matrix(y_test, grid.predict(X_test_pre_post)).ravel() \n",
    "    print(\"True Negatives: %s\" % tn)\n",
    "    model_results['tn'] = tn\n",
    "\n",
    "    print(\"False Positives: %s\" % fp)  \n",
    "    model_results['fp'] = fp\n",
    "\n",
    "    print(\"False Negatives: %s\" % fn)\n",
    "    model_results['fn'] = fn\n",
    "\n",
    "    print(\"True Positives: %s\" % tp, '\\n')\n",
    "    model_results['tp'] = tp\n",
    "\n",
    "    grid_results = grid_results.append(model_results, ignore_index=True)"
   ]
  },
  {
   "cell_type": "code",
   "execution_count": 15,
   "metadata": {},
   "outputs": [],
   "source": [
    "grid_results_cv = grid_results"
   ]
  },
  {
   "cell_type": "code",
   "execution_count": 16,
   "metadata": {},
   "outputs": [
    {
     "data": {
      "text/html": [
       "<div>\n",
       "<style scoped>\n",
       "    .dataframe tbody tr th:only-of-type {\n",
       "        vertical-align: middle;\n",
       "    }\n",
       "\n",
       "    .dataframe tbody tr th {\n",
       "        vertical-align: top;\n",
       "    }\n",
       "\n",
       "    .dataframe thead th {\n",
       "        text-align: right;\n",
       "    }\n",
       "</style>\n",
       "<table border=\"1\" class=\"dataframe\">\n",
       "  <thead>\n",
       "    <tr style=\"text-align: right;\">\n",
       "      <th></th>\n",
       "      <th>model</th>\n",
       "      <th>best_params</th>\n",
       "      <th>train_accuracy</th>\n",
       "      <th>test_accuracy</th>\n",
       "      <th>tn</th>\n",
       "      <th>fp</th>\n",
       "      <th>fn</th>\n",
       "      <th>tp</th>\n",
       "    </tr>\n",
       "  </thead>\n",
       "  <tbody>\n",
       "    <tr>\n",
       "      <th>1</th>\n",
       "      <td>logreg</td>\n",
       "      <td>{'cv__ngram_range': (1, 1), 'cv__stop_words': ...</td>\n",
       "      <td>1.000000</td>\n",
       "      <td>0.858871</td>\n",
       "      <td>225</td>\n",
       "      <td>22</td>\n",
       "      <td>48</td>\n",
       "      <td>201</td>\n",
       "    </tr>\n",
       "    <tr>\n",
       "      <th>2</th>\n",
       "      <td>multi_nb</td>\n",
       "      <td>{'cv__ngram_range': (1, 1), 'cv__stop_words': ...</td>\n",
       "      <td>0.954973</td>\n",
       "      <td>0.832661</td>\n",
       "      <td>192</td>\n",
       "      <td>55</td>\n",
       "      <td>28</td>\n",
       "      <td>221</td>\n",
       "    </tr>\n",
       "    <tr>\n",
       "      <th>0</th>\n",
       "      <td>knn</td>\n",
       "      <td>{'cv__ngram_range': (1, 1), 'cv__stop_words': ...</td>\n",
       "      <td>0.497312</td>\n",
       "      <td>0.497984</td>\n",
       "      <td>247</td>\n",
       "      <td>0</td>\n",
       "      <td>249</td>\n",
       "      <td>0</td>\n",
       "    </tr>\n",
       "  </tbody>\n",
       "</table>\n",
       "</div>"
      ],
      "text/plain": [
       "      model                                        best_params  \\\n",
       "1    logreg  {'cv__ngram_range': (1, 1), 'cv__stop_words': ...   \n",
       "2  multi_nb  {'cv__ngram_range': (1, 1), 'cv__stop_words': ...   \n",
       "0       knn  {'cv__ngram_range': (1, 1), 'cv__stop_words': ...   \n",
       "\n",
       "   train_accuracy  test_accuracy   tn  fp   fn   tp  \n",
       "1        1.000000       0.858871  225  22   48  201  \n",
       "2        0.954973       0.832661  192  55   28  221  \n",
       "0        0.497312       0.497984  247   0  249    0  "
      ]
     },
     "execution_count": 16,
     "metadata": {},
     "output_type": "execute_result"
    }
   ],
   "source": [
    "grid_results.sort_values('test_accuracy',ascending=False)"
   ]
  },
  {
   "cell_type": "markdown",
   "metadata": {},
   "source": [
    "### Gridsearch - TF-IDF <a name=\"idf\"></a>"
   ]
  },
  {
   "cell_type": "code",
   "execution_count": 17,
   "metadata": {},
   "outputs": [],
   "source": [
    "steps_list_gr_tf = [ # list of pipeline steps for each model combo\n",
    "    [('tf',TfidfVectorizer()),('scaler',StandardScaler(with_mean=False)),('knn',KNeighborsClassifier())], \n",
    "    [('tf',TfidfVectorizer()),('scaler',StandardScaler(with_mean=False)),('logreg',LogisticRegression())],\n",
    "    [('tf',TfidfVectorizer()),('multi_nb',MultinomialNB())]\n",
    "]"
   ]
  },
  {
   "cell_type": "code",
   "execution_count": 18,
   "metadata": {},
   "outputs": [],
   "source": [
    "steps_titles = ['multi_nb','knn','logreg']"
   ]
  },
  {
   "cell_type": "code",
   "execution_count": 19,
   "metadata": {},
   "outputs": [],
   "source": [
    "pipe_params_tf = [\n",
    "    {\"tf__stop_words\":['english'], \"tf__ngram_range\":[(1,1),(1,2)]},\n",
    "    {\"tf__stop_words\":['english'], \"tf__ngram_range\":[(1,1),(1,2)]},\n",
    "    {\"tf__stop_words\":['english'], \"tf__ngram_range\":[(1,1),(1,2)]}\n",
    "]"
   ]
  },
  {
   "cell_type": "code",
   "execution_count": 20,
   "metadata": {},
   "outputs": [
    {
     "data": {
      "text/html": [
       "<div>\n",
       "<style scoped>\n",
       "    .dataframe tbody tr th:only-of-type {\n",
       "        vertical-align: middle;\n",
       "    }\n",
       "\n",
       "    .dataframe tbody tr th {\n",
       "        vertical-align: top;\n",
       "    }\n",
       "\n",
       "    .dataframe thead th {\n",
       "        text-align: right;\n",
       "    }\n",
       "</style>\n",
       "<table border=\"1\" class=\"dataframe\">\n",
       "  <thead>\n",
       "    <tr style=\"text-align: right;\">\n",
       "      <th></th>\n",
       "      <th>model</th>\n",
       "      <th>best_params</th>\n",
       "      <th>train_accuracy</th>\n",
       "      <th>test_accuracy</th>\n",
       "      <th>tn</th>\n",
       "      <th>fp</th>\n",
       "      <th>fn</th>\n",
       "      <th>tp</th>\n",
       "    </tr>\n",
       "  </thead>\n",
       "  <tbody>\n",
       "  </tbody>\n",
       "</table>\n",
       "</div>"
      ],
      "text/plain": [
       "Empty DataFrame\n",
       "Columns: [model, best_params, train_accuracy, test_accuracy, tn, fp, fn, tp]\n",
       "Index: []"
      ]
     },
     "execution_count": 20,
     "metadata": {},
     "output_type": "execute_result"
    }
   ],
   "source": [
    "# instantiate results DataFrame\n",
    "\n",
    "grid_results = pd.DataFrame(columns=['model','best_params','train_accuracy','test_accuracy','tn','fp','fn','tp'])\n",
    "grid_results.head()"
   ]
  },
  {
   "cell_type": "code",
   "execution_count": 21,
   "metadata": {},
   "outputs": [],
   "source": [
    "X_train_pre_post = X_train['lem']\n",
    "X_test_pre_post = X_test['lem']"
   ]
  },
  {
   "cell_type": "code",
   "execution_count": 22,
   "metadata": {
    "scrolled": false
   },
   "outputs": [
    {
     "name": "stderr",
     "output_type": "stream",
     "text": [
      "\r",
      "  0%|          | 0/3 [00:00<?, ?it/s]"
     ]
    },
    {
     "name": "stdout",
     "output_type": "stream",
     "text": [
      "Model:  multi_nb\n",
      "Best Params:  {'tf__ngram_range': (1, 1), 'tf__stop_words': 'english'}\n",
      "0.49731182795698925 \n",
      "\n",
      "0.49798387096774194 \n",
      "\n"
     ]
    },
    {
     "name": "stderr",
     "output_type": "stream",
     "text": [
      "\r",
      " 33%|███▎      | 1/3 [00:03<00:07,  3.70s/it]"
     ]
    },
    {
     "name": "stdout",
     "output_type": "stream",
     "text": [
      "True Negatives: 247\n",
      "False Positives: 0\n",
      "False Negatives: 249\n",
      "True Positives: 0 \n",
      "\n",
      "Model:  knn\n",
      "Best Params:  {'tf__ngram_range': (1, 1), 'tf__stop_words': 'english'}\n",
      "1.0 \n",
      "\n"
     ]
    },
    {
     "name": "stderr",
     "output_type": "stream",
     "text": [
      "\r",
      " 67%|██████▋   | 2/3 [00:10<00:05,  5.74s/it]"
     ]
    },
    {
     "name": "stdout",
     "output_type": "stream",
     "text": [
      "0.8770161290322581 \n",
      "\n",
      "True Negatives: 212\n",
      "False Positives: 35\n",
      "False Negatives: 26\n",
      "True Positives: 223 \n",
      "\n",
      "Model:  logreg\n",
      "Best Params:  {'tf__ngram_range': (1, 1), 'tf__stop_words': 'english'}\n",
      "0.9381720430107527 \n",
      "\n"
     ]
    },
    {
     "name": "stderr",
     "output_type": "stream",
     "text": [
      "100%|██████████| 3/3 [00:14<00:00,  4.73s/it]"
     ]
    },
    {
     "name": "stdout",
     "output_type": "stream",
     "text": [
      "0.8145161290322581 \n",
      "\n",
      "True Negatives: 171\n",
      "False Positives: 76\n",
      "False Negatives: 16\n",
      "True Positives: 233 \n",
      "\n"
     ]
    },
    {
     "name": "stderr",
     "output_type": "stream",
     "text": [
      "\n"
     ]
    }
   ],
   "source": [
    "for i in tqdm(range(len(steps_list_gr_tf))):           # timed loop through index of number of steps\n",
    "    pipe = Pipeline(steps=steps_list_gr_tf[i])         # configure pipeline for each model\n",
    "    grid = GridSearchCV(pipe, pipe_params_tf[i], cv=3) # fit GridSearchCV to model and model's params\n",
    "\n",
    "    model_results = {}\n",
    "\n",
    "    grid.fit(X_train_pre_post, y_train.values.ravel())\n",
    "    \n",
    "    print('Model: ',steps_titles[i])\n",
    "    model_results['model'] = steps_titles[i]\n",
    "\n",
    "    print('Best Params: ', grid.best_params_)\n",
    "    model_results['best_params'] = grid.best_params_\n",
    "\n",
    "    print(grid.score(X_train_pre_post, y_train), '\\n')\n",
    "    model_results['train_accuracy'] = grid.score(X_train_pre_post, y_train)\n",
    "    \n",
    "    print(grid.score(X_test_pre_post, y_test), '\\n')\n",
    "    model_results['test_accuracy'] = grid.score(X_test_pre_post, y_test)\n",
    "\n",
    "    tn, fp, fn, tp = confusion_matrix(y_test, grid.predict(X_test_pre_post)).ravel()\n",
    "    print(\"True Negatives: %s\" % tn)\n",
    "    model_results['tn'] = tn\n",
    "\n",
    "    print(\"False Positives: %s\" % fp)\n",
    "    model_results['fp'] = fp\n",
    "\n",
    "    print(\"False Negatives: %s\" % fn)\n",
    "    model_results['fn'] = fn\n",
    "\n",
    "    print(\"True Positives: %s\" % tp, '\\n')\n",
    "    model_results['tp'] = tp\n",
    "\n",
    "    grid_results = grid_results.append(model_results, ignore_index=True)"
   ]
  },
  {
   "cell_type": "code",
   "execution_count": 23,
   "metadata": {},
   "outputs": [],
   "source": [
    "grid_results_tf = grid_results"
   ]
  },
  {
   "cell_type": "markdown",
   "metadata": {},
   "source": [
    "<a name=\"results\"></a>\n",
    "### Results"
   ]
  },
  {
   "cell_type": "code",
   "execution_count": 25,
   "metadata": {},
   "outputs": [],
   "source": [
    "grid_results_tf['tt_gap'] = grid_results_tf['train_accuracy'] - grid_results_tf['test_accuracy']\n",
    "grid_results_cv['tt_gap'] = grid_results_cv['train_accuracy'] - grid_results_cv['test_accuracy']"
   ]
  },
  {
   "cell_type": "code",
   "execution_count": 27,
   "metadata": {},
   "outputs": [],
   "source": [
    "grid_results_tf['ba_gap'] = grid_results_tf['test_accuracy'] - y_train.is_tifu.value_counts(normalize=True)[1]\n",
    "grid_results_cv['ba_gap'] = grid_results_cv['test_accuracy'] - y_train.is_tifu.value_counts(normalize=True)[1]"
   ]
  },
  {
   "cell_type": "code",
   "execution_count": 28,
   "metadata": {},
   "outputs": [
    {
     "data": {
      "text/html": [
       "<div>\n",
       "<style scoped>\n",
       "    .dataframe tbody tr th:only-of-type {\n",
       "        vertical-align: middle;\n",
       "    }\n",
       "\n",
       "    .dataframe tbody tr th {\n",
       "        vertical-align: top;\n",
       "    }\n",
       "\n",
       "    .dataframe thead th {\n",
       "        text-align: right;\n",
       "    }\n",
       "</style>\n",
       "<table border=\"1\" class=\"dataframe\">\n",
       "  <thead>\n",
       "    <tr style=\"text-align: right;\">\n",
       "      <th></th>\n",
       "      <th>model</th>\n",
       "      <th>best_params</th>\n",
       "      <th>train_accuracy</th>\n",
       "      <th>test_accuracy</th>\n",
       "      <th>tn</th>\n",
       "      <th>fp</th>\n",
       "      <th>fn</th>\n",
       "      <th>tp</th>\n",
       "      <th>tt_gap</th>\n",
       "      <th>ba_gap</th>\n",
       "    </tr>\n",
       "  </thead>\n",
       "  <tbody>\n",
       "    <tr>\n",
       "      <th>1</th>\n",
       "      <td>logreg</td>\n",
       "      <td>{'cv__ngram_range': (1, 1), 'cv__stop_words': ...</td>\n",
       "      <td>1.000000</td>\n",
       "      <td>0.858871</td>\n",
       "      <td>225</td>\n",
       "      <td>22</td>\n",
       "      <td>48</td>\n",
       "      <td>201</td>\n",
       "      <td>0.141129</td>\n",
       "      <td>0.356183</td>\n",
       "    </tr>\n",
       "    <tr>\n",
       "      <th>2</th>\n",
       "      <td>multi_nb</td>\n",
       "      <td>{'cv__ngram_range': (1, 1), 'cv__stop_words': ...</td>\n",
       "      <td>0.954973</td>\n",
       "      <td>0.832661</td>\n",
       "      <td>192</td>\n",
       "      <td>55</td>\n",
       "      <td>28</td>\n",
       "      <td>221</td>\n",
       "      <td>0.122312</td>\n",
       "      <td>0.329973</td>\n",
       "    </tr>\n",
       "    <tr>\n",
       "      <th>0</th>\n",
       "      <td>knn</td>\n",
       "      <td>{'cv__ngram_range': (1, 1), 'cv__stop_words': ...</td>\n",
       "      <td>0.497312</td>\n",
       "      <td>0.497984</td>\n",
       "      <td>247</td>\n",
       "      <td>0</td>\n",
       "      <td>249</td>\n",
       "      <td>0</td>\n",
       "      <td>-0.000672</td>\n",
       "      <td>-0.004704</td>\n",
       "    </tr>\n",
       "  </tbody>\n",
       "</table>\n",
       "</div>"
      ],
      "text/plain": [
       "      model                                        best_params  \\\n",
       "1    logreg  {'cv__ngram_range': (1, 1), 'cv__stop_words': ...   \n",
       "2  multi_nb  {'cv__ngram_range': (1, 1), 'cv__stop_words': ...   \n",
       "0       knn  {'cv__ngram_range': (1, 1), 'cv__stop_words': ...   \n",
       "\n",
       "   train_accuracy  test_accuracy   tn  fp   fn   tp    tt_gap    ba_gap  \n",
       "1        1.000000       0.858871  225  22   48  201  0.141129  0.356183  \n",
       "2        0.954973       0.832661  192  55   28  221  0.122312  0.329973  \n",
       "0        0.497312       0.497984  247   0  249    0 -0.000672 -0.004704  "
      ]
     },
     "execution_count": 28,
     "metadata": {},
     "output_type": "execute_result"
    }
   ],
   "source": [
    "grid_results_cv.sort_values('test_accuracy',ascending=False)"
   ]
  },
  {
   "cell_type": "code",
   "execution_count": 29,
   "metadata": {},
   "outputs": [
    {
     "data": {
      "text/html": [
       "<div>\n",
       "<style scoped>\n",
       "    .dataframe tbody tr th:only-of-type {\n",
       "        vertical-align: middle;\n",
       "    }\n",
       "\n",
       "    .dataframe tbody tr th {\n",
       "        vertical-align: top;\n",
       "    }\n",
       "\n",
       "    .dataframe thead th {\n",
       "        text-align: right;\n",
       "    }\n",
       "</style>\n",
       "<table border=\"1\" class=\"dataframe\">\n",
       "  <thead>\n",
       "    <tr style=\"text-align: right;\">\n",
       "      <th></th>\n",
       "      <th>model</th>\n",
       "      <th>best_params</th>\n",
       "      <th>train_accuracy</th>\n",
       "      <th>test_accuracy</th>\n",
       "      <th>tn</th>\n",
       "      <th>fp</th>\n",
       "      <th>fn</th>\n",
       "      <th>tp</th>\n",
       "      <th>tt_gap</th>\n",
       "      <th>ba_gap</th>\n",
       "    </tr>\n",
       "  </thead>\n",
       "  <tbody>\n",
       "    <tr>\n",
       "      <th>1</th>\n",
       "      <td>knn</td>\n",
       "      <td>{'tf__ngram_range': (1, 1), 'tf__stop_words': ...</td>\n",
       "      <td>1.000000</td>\n",
       "      <td>0.877016</td>\n",
       "      <td>212</td>\n",
       "      <td>35</td>\n",
       "      <td>26</td>\n",
       "      <td>223</td>\n",
       "      <td>0.122984</td>\n",
       "      <td>0.374328</td>\n",
       "    </tr>\n",
       "    <tr>\n",
       "      <th>2</th>\n",
       "      <td>logreg</td>\n",
       "      <td>{'tf__ngram_range': (1, 1), 'tf__stop_words': ...</td>\n",
       "      <td>0.938172</td>\n",
       "      <td>0.814516</td>\n",
       "      <td>171</td>\n",
       "      <td>76</td>\n",
       "      <td>16</td>\n",
       "      <td>233</td>\n",
       "      <td>0.123656</td>\n",
       "      <td>0.311828</td>\n",
       "    </tr>\n",
       "    <tr>\n",
       "      <th>0</th>\n",
       "      <td>multi_nb</td>\n",
       "      <td>{'tf__ngram_range': (1, 1), 'tf__stop_words': ...</td>\n",
       "      <td>0.497312</td>\n",
       "      <td>0.497984</td>\n",
       "      <td>247</td>\n",
       "      <td>0</td>\n",
       "      <td>249</td>\n",
       "      <td>0</td>\n",
       "      <td>-0.000672</td>\n",
       "      <td>-0.004704</td>\n",
       "    </tr>\n",
       "  </tbody>\n",
       "</table>\n",
       "</div>"
      ],
      "text/plain": [
       "      model                                        best_params  \\\n",
       "1       knn  {'tf__ngram_range': (1, 1), 'tf__stop_words': ...   \n",
       "2    logreg  {'tf__ngram_range': (1, 1), 'tf__stop_words': ...   \n",
       "0  multi_nb  {'tf__ngram_range': (1, 1), 'tf__stop_words': ...   \n",
       "\n",
       "   train_accuracy  test_accuracy   tn  fp   fn   tp    tt_gap    ba_gap  \n",
       "1        1.000000       0.877016  212  35   26  223  0.122984  0.374328  \n",
       "2        0.938172       0.814516  171  76   16  233  0.123656  0.311828  \n",
       "0        0.497312       0.497984  247   0  249    0 -0.000672 -0.004704  "
      ]
     },
     "execution_count": 29,
     "metadata": {},
     "output_type": "execute_result"
    }
   ],
   "source": [
    "grid_results_tf.sort_values('test_accuracy',ascending=False)"
   ]
  },
  {
   "cell_type": "markdown",
   "metadata": {},
   "source": [
    "<a name=\"model\"></a>\n",
    "### Model Selection"
   ]
  },
  {
   "cell_type": "markdown",
   "metadata": {},
   "source": [
    "Based on the results above, CountVectorized LogisticRegression and TF-IDF KNN performed the best amongst the models.\n",
    "\n",
    "1. __CountVectorizer LogisticRegression__ (Test Accuracy: 0.86)\n",
    "    - cv__ngram_range': (1, 1)\n",
    "    - cv__stop_words='english\n",
    "    <br>\n",
    "    <br>\n",
    "\n",
    "2. __TF-IDF K-Nearest Neighbors__ (Test Accuracy: 0.88)\n",
    "    - tf__ngram_range': (1, 1)\n",
    "    - tf__stop_words='english\n",
    "    \n",
    "These two models beat the baseline accuracy of 0.50 and the highest scoring models."
   ]
  },
  {
   "cell_type": "code",
   "execution_count": 71,
   "metadata": {},
   "outputs": [
    {
     "data": {
      "image/png": "[encoded data removed]",
      "text/plain": [
       "<Figure size 432x288 with 1 Axes>"
      ]
     },
     "metadata": {
      "needs_background": "light"
     },
     "output_type": "display_data"
    }
   ],
   "source": [
    "#CountVectorized AUC-ROC Curve\n",
    "\n",
    "#normalizing the x and y axis\n",
    "norm_x = (grid_results_cv['fp']-min(grid_results_cv['fp']))/(max(grid_results_cv['fp'])-min(grid_results_cv['fp']))\n",
    "norm_y = (grid_results_cv['tp']-min(grid_results_cv['tp']))/(max(grid_results_cv['tp'])-min(grid_results_cv['tp']))\n",
    "\n",
    "# plotting the graph\n",
    "plt.plot(norm_x,norm_y)\n",
    "plt.plot([0, 1], [0, 1],'r--')\n",
    "plt.ylabel('True Positive Rate')\n",
    "plt.xlabel('False Positive Rate')\n",
    "plt.show() "
   ]
  },
  {
   "cell_type": "code",
   "execution_count": 72,
   "metadata": {
    "scrolled": true
   },
   "outputs": [
    {
     "data": {
      "image/png": "[encoded data removed]",
      "text/plain": [
       "<Figure size 432x288 with 1 Axes>"
      ]
     },
     "metadata": {
      "needs_background": "light"
     },
     "output_type": "display_data"
    }
   ],
   "source": [
    "#TF-IDF AUC-ROC Curve\n",
    "\n",
    "#normalizing the x and y axis\n",
    "norm_x = (grid_results_tf['fp']-min(grid_results_tf['fp']))/(max(grid_results_tf['fp'])-min(grid_results_tf['fp']))\n",
    "norm_y = (grid_results_tf['tp']-min(grid_results_tf['tp']))/(max(grid_results_tf['tp'])-min(grid_results_tf['tp']))\n",
    "\n",
    "# plotting the graph\n",
    "plt.plot(norm_x,norm_y)\n",
    "plt.plot([0, 1], [0, 1],'r--')\n",
    "plt.ylabel('True Positive Rate')\n",
    "plt.xlabel('False Positive Rate')\n",
    "plt.show() "
   ]
  },
  {
   "cell_type": "markdown",
   "metadata": {},
   "source": [
    "The 2 models also have very similar area with using the AUC-ROC curve. This indicates that both models will do similarly well when presented with a text post."
   ]
  },
  {
   "cell_type": "markdown",
   "metadata": {},
   "source": [
    "<p style=\"color:red\">  \n",
    "    Instead of eye-balling, you can use sklearn to produce the actual roc_auc_score\n",
    "</p>"
   ]
  },
  {
   "cell_type": "markdown",
   "metadata": {},
   "source": [
    "<p style=\"color:red\">  \n",
    "    <b>Does the student interpret the results of their model for purposes of inference? Is domain knowledge demonstrated when interpreting results?</b><br>   \n",
    "    <ul style=\"color:red\">\n",
    "        <li>Generate confusion matrix</li>\n",
    "        <li>Describe what the 4 metrics are. ie: 200tp means 200 \"republican\" were correctly classified</li>\n",
    "        <li>Generate <a href=\"https://scikit-learn.org/stable/modules/generated/sklearn.metrics.classification_report.html\">classification report</a></li>\n",
    "        <li>Any other relevant  <a href=\"https://scikit-learn.org/stable/modules/model_evaluation.html#classification-metrics\">classification metric</a></li>\n",
    "        <li>Explain what the scores mean in your project's context.</li>\n",
    "        <li>Compare the score against your baseline.</li>\n",
    "        <li>Plot <a href=\"https://scikit-learn.org/stable/auto_examples/model_selection/plot_roc.html#sphx-glr-auto-examples-model-selection-plot-roc-py\">ROC</a></li>\n",
    "        <li>Explain your ROC curve <a href=\"https://developers.google.com/machine-learning/crash-course/classification/roc-and-auc\">read this</a></li>\n",
    "        <li>In general, <a href=\"https://scikit-learn.org/stable/modules/generated/sklearn.metrics.roc_auc_score.html?highlight=auc#sklearn.metrics.roc_auc_score\">AUC score</a> is the best scorer for classification but only works for binary classification like this project. For multi class, you can do a one-versus-rest model to generate the score and curve if necessary.</li>\n",
    "    </ul>\n",
    "</p>\n",
    "<p style=\"color:red\"> \n",
    "    For NLP classification projects like this, you can additionally look into\n",
    "    <ul style=\"color:red\">\n",
    "        <li>Most relevant words for each class using coef / feature_importance</li>\n",
    "        <li>Examples of (mis)classified entries</li>\n",
    "    </ul>\n",
    "</p>\n"
   ]
  },
  {
   "cell_type": "markdown",
   "metadata": {},
   "source": [
    "<p style=\"color:red\">  \n",
    "    <b>Does the student test and evaluate a variety of models to identify a production algorithm (AT MINIMUM: Bayes and one other model)?</b><br>   \n",
    "    You didnt do MNB model! That's the generic goto model to try first for bag-of-words text classification projects like this.\n",
    "</p>\n"
   ]
  },
  {
   "cell_type": "markdown",
   "metadata": {},
   "source": [
    "<a name=\"conclusion\"></a>\n",
    "### Conclusion"
   ]
  },
  {
   "cell_type": "markdown",
   "metadata": {},
   "source": [
    "We are able to find 2 ideal machine learning models using NLP and gridsearch. Despite having 2 similar styled subreddits and their formatting removed, we are able to use NLP and grid to find patterns in the words used in both subreddits"
   ]
  },
  {
   "cell_type": "markdown",
   "metadata": {},
   "source": [
    "<p style=\"color:red\">  \n",
    "    <b>Conclusion and Recommendations</b><br>   \n",
    "    You need to address the points in the rubric...\n",
    "</p>"
   ]
  }
 ],
 "metadata": {
  "kernelspec": {
   "display_name": "Python 3",
   "language": "python",
   "name": "python3"
  },
  "language_info": {
   "codemirror_mode": {
    "name": "ipython",
    "version": 3
   },
   "file_extension": ".py",
   "mimetype": "text/x-python",
   "name": "python",
   "nbconvert_exporter": "python",
   "pygments_lexer": "ipython3",
   "version": "3.8.5"
  }
 },
 "nbformat": 4,
 "nbformat_minor": 4
}

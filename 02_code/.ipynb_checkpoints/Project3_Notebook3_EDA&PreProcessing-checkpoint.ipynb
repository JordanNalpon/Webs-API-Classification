{
 "cells": [
  {
   "cell_type": "markdown",
   "metadata": {},
   "source": [
    "# General Assembly - Project 3:  Webs API & Classification\n",
    "## Notebook 3: EDA & Pre-Processing\n",
    "### DSI19 / Jordan David Nalpon"
   ]
  },
  {
   "cell_type": "markdown",
   "metadata": {},
   "source": [
    "### Notebook 3 Index\n",
    "---\n",
    "* [Import Libraries](#lib)\n",
    "* [Import CSV Files](#csv)\n",
    "* [Unravel Posts](#unravel)\n",
    "* [Cleaning of Title and Post](#clean)\n",
    "* [Pre-Cleaning Check of Top 20 Words](#20words)\n",
    "* [Cleaning of Test Vector Column](#cleanCV)\n",
    "* [Tokenizing](#token)\n",
    "* [Stemming of Tokens](#stem)\n",
    "* [Lemmatizing of Tokens](#lem)\n",
    "* [Creating Dataframe with Lemming and Stemming](#lemstem)\n",
    "* [Train-Test Split](#tt)\n",
    "* [Baseline Accuracy](#base)\n",
    "* [Exporting to CSV File](#csv)\n",
    "---\n",
    "<a name=\"index\"></a>"
   ]
  },
  {
   "cell_type": "markdown",
   "metadata": {},
   "source": [
    "### Notebook 3 : EDA & Pre-Processing"
   ]
  },
  {
   "cell_type": "markdown",
   "metadata": {},
   "source": [
    "This notebook will do an EDA with our web scraped data from r/tifu and r/confessions and will pre-process the data along the way."
   ]
  },
  {
   "cell_type": "markdown",
   "metadata": {},
   "source": [
    "<a name=\"lib\"></a>\n",
    "### Import Libraries"
   ]
  },
  {
   "cell_type": "code",
   "execution_count": 99,
   "metadata": {},
   "outputs": [],
   "source": [
    "import numpy as np\n",
    "import pandas as pd\n",
    "import time\n",
    "import requests\n",
    "import seaborn as sns\n",
    "import re\n",
    "import matplotlib.pyplot as plt\n",
    "import sklearn.metrics as metrics\n",
    "import ast # to convert string data to indexable list of dictionaries\n",
    "\n",
    "from sklearn.feature_extraction.text import CountVectorizer, ENGLISH_STOP_WORDS\n",
    "from nltk.tokenize import RegexpTokenizer\n",
    "from nltk.stem.porter import PorterStemmer\n",
    "from nltk.stem import WordNetLemmatizer\n",
    "from sklearn.model_selection import train_test_split"
   ]
  },
  {
   "cell_type": "markdown",
   "metadata": {},
   "source": [
    "<a name=\"csv\"></a>\n",
    "### Import CSV Files"
   ]
  },
  {
   "cell_type": "code",
   "execution_count": 2,
   "metadata": {},
   "outputs": [],
   "source": [
    "df_tifu = pd.read_csv('../01_data/notebook2_df_tifu.csv')\n",
    "df_confessions = pd.read_csv('../01_data/notebook2_df_confessions.csv')"
   ]
  },
  {
   "cell_type": "code",
   "execution_count": 3,
   "metadata": {},
   "outputs": [
    {
     "data": {
      "text/html": [
       "<div>\n",
       "<style scoped>\n",
       "    .dataframe tbody tr th:only-of-type {\n",
       "        vertical-align: middle;\n",
       "    }\n",
       "\n",
       "    .dataframe tbody tr th {\n",
       "        vertical-align: top;\n",
       "    }\n",
       "\n",
       "    .dataframe thead th {\n",
       "        text-align: right;\n",
       "    }\n",
       "</style>\n",
       "<table border=\"1\" class=\"dataframe\">\n",
       "  <thead>\n",
       "    <tr style=\"text-align: right;\">\n",
       "      <th></th>\n",
       "      <th>modhash</th>\n",
       "      <th>dist</th>\n",
       "      <th>children</th>\n",
       "      <th>after</th>\n",
       "      <th>before</th>\n",
       "    </tr>\n",
       "  </thead>\n",
       "  <tbody>\n",
       "    <tr>\n",
       "      <th>0</th>\n",
       "      <td>NaN</td>\n",
       "      <td>100</td>\n",
       "      <td>[{'kind': 't3', 'data': {'approved_at_utc': No...</td>\n",
       "      <td>t3_kvkjnc</td>\n",
       "      <td>NaN</td>\n",
       "    </tr>\n",
       "    <tr>\n",
       "      <th>1</th>\n",
       "      <td>NaN</td>\n",
       "      <td>100</td>\n",
       "      <td>[{'kind': 't3', 'data': {'approved_at_utc': No...</td>\n",
       "      <td>t3_kuefo8</td>\n",
       "      <td>NaN</td>\n",
       "    </tr>\n",
       "    <tr>\n",
       "      <th>2</th>\n",
       "      <td>NaN</td>\n",
       "      <td>100</td>\n",
       "      <td>[{'kind': 't3', 'data': {'approved_at_utc': No...</td>\n",
       "      <td>t3_ktdzt7</td>\n",
       "      <td>NaN</td>\n",
       "    </tr>\n",
       "    <tr>\n",
       "      <th>3</th>\n",
       "      <td>NaN</td>\n",
       "      <td>100</td>\n",
       "      <td>[{'kind': 't3', 'data': {'approved_at_utc': No...</td>\n",
       "      <td>t3_ks5kcx</td>\n",
       "      <td>NaN</td>\n",
       "    </tr>\n",
       "    <tr>\n",
       "      <th>4</th>\n",
       "      <td>NaN</td>\n",
       "      <td>100</td>\n",
       "      <td>[{'kind': 't3', 'data': {'approved_at_utc': No...</td>\n",
       "      <td>t3_krb9ut</td>\n",
       "      <td>NaN</td>\n",
       "    </tr>\n",
       "  </tbody>\n",
       "</table>\n",
       "</div>"
      ],
      "text/plain": [
       "   modhash  dist                                           children  \\\n",
       "0      NaN   100  [{'kind': 't3', 'data': {'approved_at_utc': No...   \n",
       "1      NaN   100  [{'kind': 't3', 'data': {'approved_at_utc': No...   \n",
       "2      NaN   100  [{'kind': 't3', 'data': {'approved_at_utc': No...   \n",
       "3      NaN   100  [{'kind': 't3', 'data': {'approved_at_utc': No...   \n",
       "4      NaN   100  [{'kind': 't3', 'data': {'approved_at_utc': No...   \n",
       "\n",
       "       after  before  \n",
       "0  t3_kvkjnc     NaN  \n",
       "1  t3_kuefo8     NaN  \n",
       "2  t3_ktdzt7     NaN  \n",
       "3  t3_ks5kcx     NaN  \n",
       "4  t3_krb9ut     NaN  "
      ]
     },
     "execution_count": 3,
     "metadata": {},
     "output_type": "execute_result"
    }
   ],
   "source": [
    "# check if import has no issues\n",
    "df_tifu.head()"
   ]
  },
  {
   "cell_type": "code",
   "execution_count": 4,
   "metadata": {},
   "outputs": [
    {
     "data": {
      "text/plain": [
       "Index(['modhash', 'dist', 'children', 'after', 'before'], dtype='object')"
      ]
     },
     "execution_count": 4,
     "metadata": {},
     "output_type": "execute_result"
    }
   ],
   "source": [
    "# going through the columns while referring to notebook 1 exploration of reddit's API\n",
    "df_tifu.columns"
   ]
  },
  {
   "cell_type": "code",
   "execution_count": 5,
   "metadata": {},
   "outputs": [
    {
     "data": {
      "text/plain": [
       "str"
      ]
     },
     "execution_count": 5,
     "metadata": {},
     "output_type": "execute_result"
    }
   ],
   "source": [
    "# shows that the data is a string instead of a list\n",
    "type(df_tifu['children'][0])"
   ]
  },
  {
   "cell_type": "markdown",
   "metadata": {},
   "source": [
    "\n",
    "\n",
    "This ast library function literal_eval takes input of type string and processes it as if it were Python syntax. In this case, it is converting strings of dictionaries back into dictionaries stored in active notebook memory."
   ]
  },
  {
   "cell_type": "code",
   "execution_count": 6,
   "metadata": {},
   "outputs": [],
   "source": [
    "df_tifu['children'] = df_tifu.children.map(lambda x: ast.literal_eval(x))"
   ]
  },
  {
   "cell_type": "code",
   "execution_count": 7,
   "metadata": {},
   "outputs": [],
   "source": [
    "df_confessions['children'] = df_confessions.children.map(lambda x: ast.literal_eval(x))"
   ]
  },
  {
   "cell_type": "code",
   "execution_count": 8,
   "metadata": {},
   "outputs": [
    {
     "data": {
      "text/plain": [
       "list"
      ]
     },
     "execution_count": 8,
     "metadata": {},
     "output_type": "execute_result"
    }
   ],
   "source": [
    "# data is now converted to a list\n",
    "type(df_tifu['children'][0])"
   ]
  },
  {
   "cell_type": "markdown",
   "metadata": {},
   "source": [
    "<a name=\"format\"></a>\n",
    "### Formatting after loading CSV files"
   ]
  },
  {
   "cell_type": "code",
   "execution_count": 9,
   "metadata": {},
   "outputs": [
    {
     "data": {
      "text/html": [
       "<div>\n",
       "<style scoped>\n",
       "    .dataframe tbody tr th:only-of-type {\n",
       "        vertical-align: middle;\n",
       "    }\n",
       "\n",
       "    .dataframe tbody tr th {\n",
       "        vertical-align: top;\n",
       "    }\n",
       "\n",
       "    .dataframe thead th {\n",
       "        text-align: right;\n",
       "    }\n",
       "</style>\n",
       "<table border=\"1\" class=\"dataframe\">\n",
       "  <thead>\n",
       "    <tr style=\"text-align: right;\">\n",
       "      <th></th>\n",
       "      <th>modhash</th>\n",
       "      <th>dist</th>\n",
       "      <th>children</th>\n",
       "      <th>after</th>\n",
       "      <th>before</th>\n",
       "    </tr>\n",
       "  </thead>\n",
       "  <tbody>\n",
       "    <tr>\n",
       "      <th>0</th>\n",
       "      <td>NaN</td>\n",
       "      <td>100</td>\n",
       "      <td>[{'kind': 't3', 'data': {'approved_at_utc': No...</td>\n",
       "      <td>t3_kvkjnc</td>\n",
       "      <td>NaN</td>\n",
       "    </tr>\n",
       "    <tr>\n",
       "      <th>1</th>\n",
       "      <td>NaN</td>\n",
       "      <td>100</td>\n",
       "      <td>[{'kind': 't3', 'data': {'approved_at_utc': No...</td>\n",
       "      <td>t3_kuefo8</td>\n",
       "      <td>NaN</td>\n",
       "    </tr>\n",
       "    <tr>\n",
       "      <th>2</th>\n",
       "      <td>NaN</td>\n",
       "      <td>100</td>\n",
       "      <td>[{'kind': 't3', 'data': {'approved_at_utc': No...</td>\n",
       "      <td>t3_ktdzt7</td>\n",
       "      <td>NaN</td>\n",
       "    </tr>\n",
       "    <tr>\n",
       "      <th>3</th>\n",
       "      <td>NaN</td>\n",
       "      <td>100</td>\n",
       "      <td>[{'kind': 't3', 'data': {'approved_at_utc': No...</td>\n",
       "      <td>t3_ks5kcx</td>\n",
       "      <td>NaN</td>\n",
       "    </tr>\n",
       "    <tr>\n",
       "      <th>4</th>\n",
       "      <td>NaN</td>\n",
       "      <td>100</td>\n",
       "      <td>[{'kind': 't3', 'data': {'approved_at_utc': No...</td>\n",
       "      <td>t3_krb9ut</td>\n",
       "      <td>NaN</td>\n",
       "    </tr>\n",
       "  </tbody>\n",
       "</table>\n",
       "</div>"
      ],
      "text/plain": [
       "   modhash  dist                                           children  \\\n",
       "0      NaN   100  [{'kind': 't3', 'data': {'approved_at_utc': No...   \n",
       "1      NaN   100  [{'kind': 't3', 'data': {'approved_at_utc': No...   \n",
       "2      NaN   100  [{'kind': 't3', 'data': {'approved_at_utc': No...   \n",
       "3      NaN   100  [{'kind': 't3', 'data': {'approved_at_utc': No...   \n",
       "4      NaN   100  [{'kind': 't3', 'data': {'approved_at_utc': No...   \n",
       "\n",
       "       after  before  \n",
       "0  t3_kvkjnc     NaN  \n",
       "1  t3_kuefo8     NaN  \n",
       "2  t3_ktdzt7     NaN  \n",
       "3  t3_ks5kcx     NaN  \n",
       "4  t3_krb9ut     NaN  "
      ]
     },
     "execution_count": 9,
     "metadata": {},
     "output_type": "execute_result"
    }
   ],
   "source": [
    "df_tifu.head()"
   ]
  },
  {
   "cell_type": "code",
   "execution_count": 10,
   "metadata": {},
   "outputs": [
    {
     "data": {
      "text/plain": [
       "(10, 5)"
      ]
     },
     "execution_count": 10,
     "metadata": {},
     "output_type": "execute_result"
    }
   ],
   "source": [
    "df_tifu.shape"
   ]
  },
  {
   "cell_type": "code",
   "execution_count": 11,
   "metadata": {},
   "outputs": [
    {
     "data": {
      "text/html": [
       "<div>\n",
       "<style scoped>\n",
       "    .dataframe tbody tr th:only-of-type {\n",
       "        vertical-align: middle;\n",
       "    }\n",
       "\n",
       "    .dataframe tbody tr th {\n",
       "        vertical-align: top;\n",
       "    }\n",
       "\n",
       "    .dataframe thead th {\n",
       "        text-align: right;\n",
       "    }\n",
       "</style>\n",
       "<table border=\"1\" class=\"dataframe\">\n",
       "  <thead>\n",
       "    <tr style=\"text-align: right;\">\n",
       "      <th></th>\n",
       "      <th>modhash</th>\n",
       "      <th>dist</th>\n",
       "      <th>children</th>\n",
       "      <th>after</th>\n",
       "      <th>before</th>\n",
       "    </tr>\n",
       "  </thead>\n",
       "  <tbody>\n",
       "    <tr>\n",
       "      <th>0</th>\n",
       "      <td>NaN</td>\n",
       "      <td>100</td>\n",
       "      <td>[{'kind': 't3', 'data': {'approved_at_utc': No...</td>\n",
       "      <td>t3_kvmstp</td>\n",
       "      <td>NaN</td>\n",
       "    </tr>\n",
       "    <tr>\n",
       "      <th>1</th>\n",
       "      <td>NaN</td>\n",
       "      <td>100</td>\n",
       "      <td>[{'kind': 't3', 'data': {'approved_at_utc': No...</td>\n",
       "      <td>t3_kv9avn</td>\n",
       "      <td>NaN</td>\n",
       "    </tr>\n",
       "    <tr>\n",
       "      <th>2</th>\n",
       "      <td>NaN</td>\n",
       "      <td>100</td>\n",
       "      <td>[{'kind': 't3', 'data': {'approved_at_utc': No...</td>\n",
       "      <td>t3_kucuo5</td>\n",
       "      <td>NaN</td>\n",
       "    </tr>\n",
       "    <tr>\n",
       "      <th>3</th>\n",
       "      <td>NaN</td>\n",
       "      <td>100</td>\n",
       "      <td>[{'kind': 't3', 'data': {'approved_at_utc': No...</td>\n",
       "      <td>t3_ktgszs</td>\n",
       "      <td>NaN</td>\n",
       "    </tr>\n",
       "    <tr>\n",
       "      <th>4</th>\n",
       "      <td>NaN</td>\n",
       "      <td>100</td>\n",
       "      <td>[{'kind': 't3', 'data': {'approved_at_utc': No...</td>\n",
       "      <td>t3_ksboej</td>\n",
       "      <td>NaN</td>\n",
       "    </tr>\n",
       "  </tbody>\n",
       "</table>\n",
       "</div>"
      ],
      "text/plain": [
       "   modhash  dist                                           children  \\\n",
       "0      NaN   100  [{'kind': 't3', 'data': {'approved_at_utc': No...   \n",
       "1      NaN   100  [{'kind': 't3', 'data': {'approved_at_utc': No...   \n",
       "2      NaN   100  [{'kind': 't3', 'data': {'approved_at_utc': No...   \n",
       "3      NaN   100  [{'kind': 't3', 'data': {'approved_at_utc': No...   \n",
       "4      NaN   100  [{'kind': 't3', 'data': {'approved_at_utc': No...   \n",
       "\n",
       "       after  before  \n",
       "0  t3_kvmstp     NaN  \n",
       "1  t3_kv9avn     NaN  \n",
       "2  t3_kucuo5     NaN  \n",
       "3  t3_ktgszs     NaN  \n",
       "4  t3_ksboej     NaN  "
      ]
     },
     "execution_count": 11,
     "metadata": {},
     "output_type": "execute_result"
    }
   ],
   "source": [
    "df_confessions.head()"
   ]
  },
  {
   "cell_type": "code",
   "execution_count": 12,
   "metadata": {},
   "outputs": [
    {
     "data": {
      "text/plain": [
       "(10, 5)"
      ]
     },
     "execution_count": 12,
     "metadata": {},
     "output_type": "execute_result"
    }
   ],
   "source": [
    "df_confessions.shape"
   ]
  },
  {
   "cell_type": "code",
   "execution_count": 13,
   "metadata": {},
   "outputs": [],
   "source": [
    "# save post dictionaries in arrays\n",
    "\n",
    "tifu_posts_bulk = df_tifu['children']\n",
    "confessions_posts_bulk = df_confessions['children']"
   ]
  },
  {
   "cell_type": "code",
   "execution_count": 14,
   "metadata": {},
   "outputs": [
    {
     "data": {
      "text/plain": [
       "0    [{'kind': 't3', 'data': {'approved_at_utc': No...\n",
       "1    [{'kind': 't3', 'data': {'approved_at_utc': No...\n",
       "2    [{'kind': 't3', 'data': {'approved_at_utc': No...\n",
       "3    [{'kind': 't3', 'data': {'approved_at_utc': No...\n",
       "4    [{'kind': 't3', 'data': {'approved_at_utc': No...\n",
       "Name: children, dtype: object"
      ]
     },
     "execution_count": 14,
     "metadata": {},
     "output_type": "execute_result"
    }
   ],
   "source": [
    "tifu_posts_bulk.head()"
   ]
  },
  {
   "cell_type": "code",
   "execution_count": 15,
   "metadata": {},
   "outputs": [
    {
     "data": {
      "text/plain": [
       "(10,)"
      ]
     },
     "execution_count": 15,
     "metadata": {},
     "output_type": "execute_result"
    }
   ],
   "source": [
    "tifu_posts_bulk.shape"
   ]
  },
  {
   "cell_type": "code",
   "execution_count": 16,
   "metadata": {},
   "outputs": [
    {
     "data": {
      "text/plain": [
       "0    [{'kind': 't3', 'data': {'approved_at_utc': No...\n",
       "1    [{'kind': 't3', 'data': {'approved_at_utc': No...\n",
       "2    [{'kind': 't3', 'data': {'approved_at_utc': No...\n",
       "3    [{'kind': 't3', 'data': {'approved_at_utc': No...\n",
       "4    [{'kind': 't3', 'data': {'approved_at_utc': No...\n",
       "Name: children, dtype: object"
      ]
     },
     "execution_count": 16,
     "metadata": {},
     "output_type": "execute_result"
    }
   ],
   "source": [
    "confessions_posts_bulk.head()"
   ]
  },
  {
   "cell_type": "code",
   "execution_count": 17,
   "metadata": {},
   "outputs": [
    {
     "data": {
      "text/plain": [
       "(10,)"
      ]
     },
     "execution_count": 17,
     "metadata": {},
     "output_type": "execute_result"
    }
   ],
   "source": [
    "confessions_posts_bulk.shape"
   ]
  },
  {
   "cell_type": "code",
   "execution_count": 18,
   "metadata": {},
   "outputs": [
    {
     "name": "stdout",
     "output_type": "stream",
     "text": [
      "100\n",
      "100\n",
      "100\n",
      "100\n",
      "100\n",
      "100\n",
      "100\n",
      "100\n",
      "100\n",
      "97\n"
     ]
    }
   ],
   "source": [
    "# show number of posts in each page of r/tifu\n",
    "for post in tifu_posts_bulk:\n",
    "    print(len(post))"
   ]
  },
  {
   "cell_type": "code",
   "execution_count": 19,
   "metadata": {},
   "outputs": [
    {
     "name": "stdout",
     "output_type": "stream",
     "text": [
      "100\n",
      "100\n",
      "100\n",
      "100\n",
      "100\n",
      "100\n",
      "100\n",
      "100\n",
      "100\n",
      "94\n"
     ]
    }
   ],
   "source": [
    "# show number of posts in each page of r/confessions\n",
    "for post in confessions_posts_bulk:\n",
    "    print(len(post))"
   ]
  },
  {
   "cell_type": "markdown",
   "metadata": {},
   "source": [
    "<a name=\"unravel\"></a>\n",
    "\n",
    "### Unravel Posts\n",
    "\n",
    "The data stored needs to be unravelled to be used."
   ]
  },
  {
   "cell_type": "code",
   "execution_count": 20,
   "metadata": {},
   "outputs": [
    {
     "data": {
      "text/plain": [
       "[0, 1, 2, 3, 4, 5, 6, 7, 8, 9]"
      ]
     },
     "execution_count": 20,
     "metadata": {},
     "output_type": "execute_result"
    }
   ],
   "source": [
    "# going through reddit's API\n",
    "sorted(tifu_posts_bulk.keys())"
   ]
  },
  {
   "cell_type": "code",
   "execution_count": 21,
   "metadata": {},
   "outputs": [
    {
     "data": {
      "text/plain": [
       "['data', 'kind']"
      ]
     },
     "execution_count": 21,
     "metadata": {},
     "output_type": "execute_result"
    }
   ],
   "source": [
    "# going through reddit's API\n",
    "sorted(tifu_posts_bulk[0][0].keys())"
   ]
  },
  {
   "cell_type": "code",
   "execution_count": 22,
   "metadata": {
    "scrolled": true
   },
   "outputs": [
    {
     "data": {
      "text/plain": [
       "['all_awardings',\n",
       " 'allow_live_comments',\n",
       " 'approved_at_utc',\n",
       " 'approved_by',\n",
       " 'archived',\n",
       " 'author',\n",
       " 'author_flair_background_color',\n",
       " 'author_flair_css_class',\n",
       " 'author_flair_richtext',\n",
       " 'author_flair_template_id',\n",
       " 'author_flair_text',\n",
       " 'author_flair_text_color',\n",
       " 'author_flair_type',\n",
       " 'author_fullname',\n",
       " 'author_patreon_flair',\n",
       " 'author_premium',\n",
       " 'awarders',\n",
       " 'banned_at_utc',\n",
       " 'banned_by',\n",
       " 'can_gild',\n",
       " 'can_mod_post',\n",
       " 'category',\n",
       " 'clicked',\n",
       " 'content_categories',\n",
       " 'contest_mode',\n",
       " 'created',\n",
       " 'created_utc',\n",
       " 'discussion_type',\n",
       " 'distinguished',\n",
       " 'domain',\n",
       " 'downs',\n",
       " 'edited',\n",
       " 'gilded',\n",
       " 'gildings',\n",
       " 'hidden',\n",
       " 'hide_score',\n",
       " 'id',\n",
       " 'is_crosspostable',\n",
       " 'is_meta',\n",
       " 'is_original_content',\n",
       " 'is_reddit_media_domain',\n",
       " 'is_robot_indexable',\n",
       " 'is_self',\n",
       " 'is_video',\n",
       " 'likes',\n",
       " 'link_flair_background_color',\n",
       " 'link_flair_css_class',\n",
       " 'link_flair_richtext',\n",
       " 'link_flair_template_id',\n",
       " 'link_flair_text',\n",
       " 'link_flair_text_color',\n",
       " 'link_flair_type',\n",
       " 'locked',\n",
       " 'media',\n",
       " 'media_embed',\n",
       " 'media_only',\n",
       " 'mod_note',\n",
       " 'mod_reason_by',\n",
       " 'mod_reason_title',\n",
       " 'mod_reports',\n",
       " 'name',\n",
       " 'no_follow',\n",
       " 'num_comments',\n",
       " 'num_crossposts',\n",
       " 'num_reports',\n",
       " 'over_18',\n",
       " 'parent_whitelist_status',\n",
       " 'permalink',\n",
       " 'pinned',\n",
       " 'pwls',\n",
       " 'quarantine',\n",
       " 'removal_reason',\n",
       " 'removed_by',\n",
       " 'removed_by_category',\n",
       " 'report_reasons',\n",
       " 'saved',\n",
       " 'score',\n",
       " 'secure_media',\n",
       " 'secure_media_embed',\n",
       " 'selftext',\n",
       " 'selftext_html',\n",
       " 'send_replies',\n",
       " 'spoiler',\n",
       " 'stickied',\n",
       " 'subreddit',\n",
       " 'subreddit_id',\n",
       " 'subreddit_name_prefixed',\n",
       " 'subreddit_subscribers',\n",
       " 'subreddit_type',\n",
       " 'suggested_sort',\n",
       " 'thumbnail',\n",
       " 'title',\n",
       " 'top_awarded_type',\n",
       " 'total_awards_received',\n",
       " 'treatment_tags',\n",
       " 'ups',\n",
       " 'upvote_ratio',\n",
       " 'url',\n",
       " 'user_reports',\n",
       " 'view_count',\n",
       " 'visited',\n",
       " 'whitelist_status',\n",
       " 'wls']"
      ]
     },
     "execution_count": 22,
     "metadata": {},
     "output_type": "execute_result"
    }
   ],
   "source": [
    "# looking through all the key values stored inside the API\n",
    "sorted(tifu_posts_bulk[0][0]['data'].keys())"
   ]
  },
  {
   "cell_type": "code",
   "execution_count": 23,
   "metadata": {},
   "outputs": [
    {
     "data": {
      "text/plain": [
       "'TIFU by taking a shower'"
      ]
     },
     "execution_count": 23,
     "metadata": {},
     "output_type": "execute_result"
    }
   ],
   "source": [
    "# getting the title of a post\n",
    "tifu_posts_bulk[0][0]['data']['title']"
   ]
  },
  {
   "cell_type": "code",
   "execution_count": 24,
   "metadata": {
    "scrolled": true
   },
   "outputs": [
    {
     "data": {
      "text/plain": [
       "'TIFU by taking a shower\\n\\nSo every few weeks we have a someone who cleans our house. Today is one of those days. well I realize I have to go to work today so I hop in the shower not thinking anything of it. I finish up and realize that the cleaner has taken all of the towels out of the bathroom to be washed. so im standing in the shower dripping wet thinking how im going to go get a towel without traumatizing the cleaner. so i get the great idea to run to my room and hope the cleaner isn’t outside the bathroom. i open the door and start my mad dash to my room and i look down the hallway. well lo-and-behold the cleaner is standing in the hallway just staring while im running as fast as i can while not slipping. i dry off and get dressed in my room. so now im sitting in my room making this post and wondering how im going to pay for the therapy the cleaner is going to require after seeing my naked ass slip and sliding down the hallway.\\n\\nsorry for any spelling/grammar mistakes im so mortified i cant think straight.\\n\\nTL;DR i traumatized my house cleaner by forgetting a towel and running naked to my room'"
      ]
     },
     "execution_count": 24,
     "metadata": {},
     "output_type": "execute_result"
    }
   ],
   "source": [
    "# getting the actual post itself\n",
    "tifu_posts_bulk[0][0]['data']['selftext']"
   ]
  },
  {
   "cell_type": "code",
   "execution_count": 25,
   "metadata": {},
   "outputs": [
    {
     "data": {
      "text/plain": [
       "'t2_89q9siuo'"
      ]
     },
     "execution_count": 25,
     "metadata": {},
     "output_type": "execute_result"
    }
   ],
   "source": [
    "# getting the OP username\n",
    "tifu_posts_bulk[0][0]['data']['author_fullname']"
   ]
  },
  {
   "cell_type": "code",
   "execution_count": 26,
   "metadata": {},
   "outputs": [
    {
     "data": {
      "text/plain": [
       "1"
      ]
     },
     "execution_count": 26,
     "metadata": {},
     "output_type": "execute_result"
    }
   ],
   "source": [
    "# getting the number of upvotes the post got\n",
    "tifu_posts_bulk[0][0]['data']['ups']"
   ]
  },
  {
   "cell_type": "code",
   "execution_count": 27,
   "metadata": {
    "scrolled": true
   },
   "outputs": [
    {
     "data": {
      "text/plain": [
       "0"
      ]
     },
     "execution_count": 27,
     "metadata": {},
     "output_type": "execute_result"
    }
   ],
   "source": [
    "# getting the number of downvotes the post got\n",
    "tifu_posts_bulk[0][0]['data']['downs']"
   ]
  },
  {
   "cell_type": "markdown",
   "metadata": {},
   "source": [
    "<p style=\"color:red\">\n",
    "Instead of repeating your code, you can try looping like below:\n",
    "</p>\n"
   ]
  },
  {
   "cell_type": "markdown",
   "metadata": {},
   "source": [
    "```\n",
    "df = pd.DataFrame()\n",
    "for category in [('tifu', tifu_posts_bulk), ('confessions', confessions_posts_bulk)]:\n",
    "    for content_type in ['title', 'selftext', 'ups']:\n",
    "        cat_name, corpus = category\n",
    "        df[str(cat_name + '_' + content_type)] = [corpus[i][j]['data'][content_type] for i in range(len(corpus))\n",
    "              for j in range(len(corpus[i]))]\n",
    "```"
   ]
  },
  {
   "cell_type": "code",
   "execution_count": 28,
   "metadata": {},
   "outputs": [],
   "source": [
    "# getting list of titles of r/tifu\n",
    "tifu_titles = [tifu_posts_bulk[i][j]['data']['title'] for i in range(len(tifu_posts_bulk))\n",
    "              for j in range(len(tifu_posts_bulk[i]))]\n",
    "\n",
    "# getting list of titles of r/confessions\n",
    "confessions_titles = [confessions_posts_bulk[i][j]['data']['title'] for i in range(len(confessions_posts_bulk))\n",
    "              for j in range(len(confessions_posts_bulk[i]))]"
   ]
  },
  {
   "cell_type": "code",
   "execution_count": 29,
   "metadata": {},
   "outputs": [],
   "source": [
    "# getting list of selftext of r/tifu\n",
    "tifu_selftext = [tifu_posts_bulk[i][j]['data']['selftext'] for i in range(len(tifu_posts_bulk))\n",
    "              for j in range(len(tifu_posts_bulk[i]))]\n",
    "\n",
    "# getting list of selftext of r/confessions\n",
    "confessions_selftext = [confessions_posts_bulk[i][j]['data']['selftext'] for i in range(len(confessions_posts_bulk))\n",
    "              for j in range(len(confessions_posts_bulk[i]))]"
   ]
  },
  {
   "cell_type": "code",
   "execution_count": 30,
   "metadata": {},
   "outputs": [],
   "source": [
    "# getting list of upvotes of r/tifu\n",
    "tifu_ups = [tifu_posts_bulk[i][j]['data']['ups'] for i in range(len(tifu_posts_bulk))\n",
    "              for j in range(len(tifu_posts_bulk[i]))]\n",
    "\n",
    "# getting list of selftext of r/confessions\n",
    "confessions_ups = [confessions_posts_bulk[i][j]['data']['ups'] for i in range(len(confessions_posts_bulk))\n",
    "              for j in range(len(confessions_posts_bulk[i]))]"
   ]
  },
  {
   "cell_type": "markdown",
   "metadata": {},
   "source": [
    "For authors, there may be some deleted or removed usernames. The code below will add a 'no author' to any missing authors."
   ]
  },
  {
   "cell_type": "code",
   "execution_count": 31,
   "metadata": {},
   "outputs": [],
   "source": [
    "# getting list of author\n",
    "tifu_author = []\n",
    "confessions_author = []\n",
    "\n",
    "for i in range(len(tifu_posts_bulk)):\n",
    "    for j in range(len(tifu_posts_bulk[i])):\n",
    "        try:\n",
    "            tifu_author.append(tifu_posts_bulk[i][j]['data']['author_fullname'])\n",
    "        except:\n",
    "            tifu_author.append('no author')\n",
    "     \n",
    "for i in range(len(confessions_posts_bulk)):\n",
    "    for j in range(len(confessions_posts_bulk[i])):\n",
    "        try:\n",
    "            confessions_author.append(confessions_posts_bulk[i][j]['data']['author_fullname'])\n",
    "        except:\n",
    "            confessions_author.append('no author')"
   ]
  },
  {
   "cell_type": "code",
   "execution_count": 32,
   "metadata": {},
   "outputs": [
    {
     "data": {
      "text/plain": [
       "997"
      ]
     },
     "execution_count": 32,
     "metadata": {},
     "output_type": "execute_result"
    }
   ],
   "source": [
    "len(tifu_author)"
   ]
  },
  {
   "cell_type": "code",
   "execution_count": 33,
   "metadata": {},
   "outputs": [
    {
     "data": {
      "text/plain": [
       "994"
      ]
     },
     "execution_count": 33,
     "metadata": {},
     "output_type": "execute_result"
    }
   ],
   "source": [
    "len(confessions_author)"
   ]
  },
  {
   "cell_type": "code",
   "execution_count": 34,
   "metadata": {},
   "outputs": [],
   "source": [
    "# compile lists into DataFrame\n",
    "df_tifu_compiled = pd.DataFrame([tifu_titles, tifu_selftext, tifu_author, tifu_ups], index=['title','post','author','upvotes'])\n",
    "df_confessions_compiled = pd.DataFrame([confessions_titles, confessions_selftext, confessions_author, confessions_ups], index=['title','post','author','upvotes'])"
   ]
  },
  {
   "cell_type": "code",
   "execution_count": 35,
   "metadata": {},
   "outputs": [
    {
     "data": {
      "text/html": [
       "<div>\n",
       "<style scoped>\n",
       "    .dataframe tbody tr th:only-of-type {\n",
       "        vertical-align: middle;\n",
       "    }\n",
       "\n",
       "    .dataframe tbody tr th {\n",
       "        vertical-align: top;\n",
       "    }\n",
       "\n",
       "    .dataframe thead th {\n",
       "        text-align: right;\n",
       "    }\n",
       "</style>\n",
       "<table border=\"1\" class=\"dataframe\">\n",
       "  <thead>\n",
       "    <tr style=\"text-align: right;\">\n",
       "      <th></th>\n",
       "      <th>0</th>\n",
       "      <th>1</th>\n",
       "      <th>2</th>\n",
       "      <th>3</th>\n",
       "      <th>4</th>\n",
       "      <th>5</th>\n",
       "      <th>6</th>\n",
       "      <th>7</th>\n",
       "      <th>8</th>\n",
       "      <th>9</th>\n",
       "      <th>...</th>\n",
       "      <th>987</th>\n",
       "      <th>988</th>\n",
       "      <th>989</th>\n",
       "      <th>990</th>\n",
       "      <th>991</th>\n",
       "      <th>992</th>\n",
       "      <th>993</th>\n",
       "      <th>994</th>\n",
       "      <th>995</th>\n",
       "      <th>996</th>\n",
       "    </tr>\n",
       "  </thead>\n",
       "  <tbody>\n",
       "    <tr>\n",
       "      <th>title</th>\n",
       "      <td>TIFU by taking a shower</td>\n",
       "      <td>TIFU by browsing r/fiftyfifty and losing sleep</td>\n",
       "      <td>TIFU by telling my boss to \"calm down\"</td>\n",
       "      <td>TIFU by forgetting an old friends name</td>\n",
       "      <td>TIFU by Flexing My Living Dog on My Teachers D...</td>\n",
       "      <td>TIFU by accidentally getting my parents high</td>\n",
       "      <td>TIFU by getting it on in my boyfriends parents...</td>\n",
       "      <td>TIFU by bustin a nut to playboi cartis wlr</td>\n",
       "      <td>TIFU by being harsh with a coworker</td>\n",
       "      <td>TIFU because I wanted to drink a beer in the b...</td>\n",
       "      <td>...</td>\n",
       "      <td>TIFU by bruising my tailbone in a dumb way</td>\n",
       "      <td>TIFU by eating a decade-old pork chop</td>\n",
       "      <td>TIFU by installing a bidet in my mothers bathr...</td>\n",
       "      <td>TIFU by having a really good study session</td>\n",
       "      <td>TIFU. I gave my wife a crappy day.</td>\n",
       "      <td>TIFU by causing my iphone 7 plus to get loop d...</td>\n",
       "      <td>TIFU Throwing away my friends ashes from their...</td>\n",
       "      <td>TIFU by waking up a customer on work experience</td>\n",
       "      <td>TIFU thinking I had covid</td>\n",
       "      <td>TIFU by using my school account for reddit</td>\n",
       "    </tr>\n",
       "    <tr>\n",
       "      <th>post</th>\n",
       "      <td>TIFU by taking a shower\\n\\nSo every few weeks ...</td>\n",
       "      <td>It all began yesterday when I watched a Markip...</td>\n",
       "      <td>My boss was overreacting to a specific problem...</td>\n",
       "      <td>Obligatory disclaimer, this actually happened ...</td>\n",
       "      <td>I fucked up today. I’m a freshman in honors Sp...</td>\n",
       "      <td>TL;DR - I made a salad today with what I thoug...</td>\n",
       "      <td>This was several years ago and I am now marrie...</td>\n",
       "      <td>yeah I got my wisdom teeth removed and I was h...</td>\n",
       "      <td>So I (19M) have a coworker “Josie” (60F) that ...</td>\n",
       "      <td>So, happened yesterday, still dealing with the...</td>\n",
       "      <td>...</td>\n",
       "      <td>Obligatory: this happened yesterday evening.\\n...</td>\n",
       "      <td>My parents have a refrigerator in their baseme...</td>\n",
       "      <td>So I actually installed the bidet about two ye...</td>\n",
       "      <td>Just got off the phone with my parents after a...</td>\n",
       "      <td>\"TIFU\" This happened today. I am a over the ro...</td>\n",
       "      <td>This happened a year ago but what happened was...</td>\n",
       "      <td>It took me a lotttt of courage to want to post...</td>\n",
       "      <td>This didn't happen today, but many years ago. ...</td>\n",
       "      <td>Dang I'm an idiot. This isn't nearly as seriou...</td>\n",
       "      <td>&amp;amp;#x200B;\\n\\nSo as you all know, people hav...</td>\n",
       "    </tr>\n",
       "    <tr>\n",
       "      <th>author</th>\n",
       "      <td>t2_89q9siuo</td>\n",
       "      <td>t2_3t2oni5g</td>\n",
       "      <td>t2_94zvws05</td>\n",
       "      <td>t2_xiel0</td>\n",
       "      <td>t2_4z1tz3hj</td>\n",
       "      <td>t2_41v7qimg</td>\n",
       "      <td>t2_7rx34fyg</td>\n",
       "      <td>t2_7ullyltm</td>\n",
       "      <td>t2_i6elqzk</td>\n",
       "      <td>t2_ctoyn</td>\n",
       "      <td>...</td>\n",
       "      <td>t2_8krq6bzm</td>\n",
       "      <td>t2_5i3t5cvb</td>\n",
       "      <td>t2_428j2tlb</td>\n",
       "      <td>t2_3q4k0d8z</td>\n",
       "      <td>t2_5vdaurv3</td>\n",
       "      <td>t2_137ib0ld</td>\n",
       "      <td>t2_9hzzhbsa</td>\n",
       "      <td>t2_11x4qe</td>\n",
       "      <td>t2_8yy7r2j6</td>\n",
       "      <td>t2_7fw2iwt2</td>\n",
       "    </tr>\n",
       "    <tr>\n",
       "      <th>upvotes</th>\n",
       "      <td>1</td>\n",
       "      <td>3</td>\n",
       "      <td>4</td>\n",
       "      <td>3</td>\n",
       "      <td>9</td>\n",
       "      <td>26</td>\n",
       "      <td>73</td>\n",
       "      <td>0</td>\n",
       "      <td>15</td>\n",
       "      <td>13</td>\n",
       "      <td>...</td>\n",
       "      <td>3</td>\n",
       "      <td>42</td>\n",
       "      <td>182</td>\n",
       "      <td>56</td>\n",
       "      <td>148</td>\n",
       "      <td>2</td>\n",
       "      <td>74</td>\n",
       "      <td>14</td>\n",
       "      <td>26</td>\n",
       "      <td>18</td>\n",
       "    </tr>\n",
       "  </tbody>\n",
       "</table>\n",
       "<p>4 rows × 997 columns</p>\n",
       "</div>"
      ],
      "text/plain": [
       "                                                       0    \\\n",
       "title                              TIFU by taking a shower   \n",
       "post     TIFU by taking a shower\\n\\nSo every few weeks ...   \n",
       "author                                         t2_89q9siuo   \n",
       "upvotes                                                  1   \n",
       "\n",
       "                                                       1    \\\n",
       "title       TIFU by browsing r/fiftyfifty and losing sleep   \n",
       "post     It all began yesterday when I watched a Markip...   \n",
       "author                                         t2_3t2oni5g   \n",
       "upvotes                                                  3   \n",
       "\n",
       "                                                       2    \\\n",
       "title               TIFU by telling my boss to \"calm down\"   \n",
       "post     My boss was overreacting to a specific problem...   \n",
       "author                                         t2_94zvws05   \n",
       "upvotes                                                  4   \n",
       "\n",
       "                                                       3    \\\n",
       "title               TIFU by forgetting an old friends name   \n",
       "post     Obligatory disclaimer, this actually happened ...   \n",
       "author                                            t2_xiel0   \n",
       "upvotes                                                  3   \n",
       "\n",
       "                                                       4    \\\n",
       "title    TIFU by Flexing My Living Dog on My Teachers D...   \n",
       "post     I fucked up today. I’m a freshman in honors Sp...   \n",
       "author                                         t2_4z1tz3hj   \n",
       "upvotes                                                  9   \n",
       "\n",
       "                                                       5    \\\n",
       "title         TIFU by accidentally getting my parents high   \n",
       "post     TL;DR - I made a salad today with what I thoug...   \n",
       "author                                         t2_41v7qimg   \n",
       "upvotes                                                 26   \n",
       "\n",
       "                                                       6    \\\n",
       "title    TIFU by getting it on in my boyfriends parents...   \n",
       "post     This was several years ago and I am now marrie...   \n",
       "author                                         t2_7rx34fyg   \n",
       "upvotes                                                 73   \n",
       "\n",
       "                                                       7    \\\n",
       "title           TIFU by bustin a nut to playboi cartis wlr   \n",
       "post     yeah I got my wisdom teeth removed and I was h...   \n",
       "author                                         t2_7ullyltm   \n",
       "upvotes                                                  0   \n",
       "\n",
       "                                                       8    \\\n",
       "title                  TIFU by being harsh with a coworker   \n",
       "post     So I (19M) have a coworker “Josie” (60F) that ...   \n",
       "author                                          t2_i6elqzk   \n",
       "upvotes                                                 15   \n",
       "\n",
       "                                                       9    ...  \\\n",
       "title    TIFU because I wanted to drink a beer in the b...  ...   \n",
       "post     So, happened yesterday, still dealing with the...  ...   \n",
       "author                                            t2_ctoyn  ...   \n",
       "upvotes                                                 13  ...   \n",
       "\n",
       "                                                       987  \\\n",
       "title           TIFU by bruising my tailbone in a dumb way   \n",
       "post     Obligatory: this happened yesterday evening.\\n...   \n",
       "author                                         t2_8krq6bzm   \n",
       "upvotes                                                  3   \n",
       "\n",
       "                                                       988  \\\n",
       "title                TIFU by eating a decade-old pork chop   \n",
       "post     My parents have a refrigerator in their baseme...   \n",
       "author                                         t2_5i3t5cvb   \n",
       "upvotes                                                 42   \n",
       "\n",
       "                                                       989  \\\n",
       "title    TIFU by installing a bidet in my mothers bathr...   \n",
       "post     So I actually installed the bidet about two ye...   \n",
       "author                                         t2_428j2tlb   \n",
       "upvotes                                                182   \n",
       "\n",
       "                                                       990  \\\n",
       "title           TIFU by having a really good study session   \n",
       "post     Just got off the phone with my parents after a...   \n",
       "author                                         t2_3q4k0d8z   \n",
       "upvotes                                                 56   \n",
       "\n",
       "                                                       991  \\\n",
       "title                   TIFU. I gave my wife a crappy day.   \n",
       "post     \"TIFU\" This happened today. I am a over the ro...   \n",
       "author                                         t2_5vdaurv3   \n",
       "upvotes                                                148   \n",
       "\n",
       "                                                       992  \\\n",
       "title    TIFU by causing my iphone 7 plus to get loop d...   \n",
       "post     This happened a year ago but what happened was...   \n",
       "author                                         t2_137ib0ld   \n",
       "upvotes                                                  2   \n",
       "\n",
       "                                                       993  \\\n",
       "title    TIFU Throwing away my friends ashes from their...   \n",
       "post     It took me a lotttt of courage to want to post...   \n",
       "author                                         t2_9hzzhbsa   \n",
       "upvotes                                                 74   \n",
       "\n",
       "                                                       994  \\\n",
       "title      TIFU by waking up a customer on work experience   \n",
       "post     This didn't happen today, but many years ago. ...   \n",
       "author                                           t2_11x4qe   \n",
       "upvotes                                                 14   \n",
       "\n",
       "                                                       995  \\\n",
       "title                            TIFU thinking I had covid   \n",
       "post     Dang I'm an idiot. This isn't nearly as seriou...   \n",
       "author                                         t2_8yy7r2j6   \n",
       "upvotes                                                 26   \n",
       "\n",
       "                                                       996  \n",
       "title           TIFU by using my school account for reddit  \n",
       "post     &amp;#x200B;\\n\\nSo as you all know, people hav...  \n",
       "author                                         t2_7fw2iwt2  \n",
       "upvotes                                                 18  \n",
       "\n",
       "[4 rows x 997 columns]"
      ]
     },
     "execution_count": 35,
     "metadata": {},
     "output_type": "execute_result"
    }
   ],
   "source": [
    "df_tifu_compiled"
   ]
  },
  {
   "cell_type": "code",
   "execution_count": 36,
   "metadata": {},
   "outputs": [],
   "source": [
    "# transpose from rows to columns\n",
    "df_tifu_compiled = df_tifu_compiled.T\n",
    "df_confessions_compiled = df_confessions_compiled.T"
   ]
  },
  {
   "cell_type": "code",
   "execution_count": 37,
   "metadata": {
    "scrolled": false
   },
   "outputs": [
    {
     "data": {
      "text/html": [
       "<div>\n",
       "<style scoped>\n",
       "    .dataframe tbody tr th:only-of-type {\n",
       "        vertical-align: middle;\n",
       "    }\n",
       "\n",
       "    .dataframe tbody tr th {\n",
       "        vertical-align: top;\n",
       "    }\n",
       "\n",
       "    .dataframe thead th {\n",
       "        text-align: right;\n",
       "    }\n",
       "</style>\n",
       "<table border=\"1\" class=\"dataframe\">\n",
       "  <thead>\n",
       "    <tr style=\"text-align: right;\">\n",
       "      <th></th>\n",
       "      <th>title</th>\n",
       "      <th>post</th>\n",
       "      <th>author</th>\n",
       "      <th>upvotes</th>\n",
       "    </tr>\n",
       "  </thead>\n",
       "  <tbody>\n",
       "    <tr>\n",
       "      <th>0</th>\n",
       "      <td>TIFU by taking a shower</td>\n",
       "      <td>TIFU by taking a shower\\n\\nSo every few weeks ...</td>\n",
       "      <td>t2_89q9siuo</td>\n",
       "      <td>1</td>\n",
       "    </tr>\n",
       "    <tr>\n",
       "      <th>1</th>\n",
       "      <td>TIFU by browsing r/fiftyfifty and losing sleep</td>\n",
       "      <td>It all began yesterday when I watched a Markip...</td>\n",
       "      <td>t2_3t2oni5g</td>\n",
       "      <td>3</td>\n",
       "    </tr>\n",
       "    <tr>\n",
       "      <th>2</th>\n",
       "      <td>TIFU by telling my boss to \"calm down\"</td>\n",
       "      <td>My boss was overreacting to a specific problem...</td>\n",
       "      <td>t2_94zvws05</td>\n",
       "      <td>4</td>\n",
       "    </tr>\n",
       "    <tr>\n",
       "      <th>3</th>\n",
       "      <td>TIFU by forgetting an old friends name</td>\n",
       "      <td>Obligatory disclaimer, this actually happened ...</td>\n",
       "      <td>t2_xiel0</td>\n",
       "      <td>3</td>\n",
       "    </tr>\n",
       "    <tr>\n",
       "      <th>4</th>\n",
       "      <td>TIFU by Flexing My Living Dog on My Teachers D...</td>\n",
       "      <td>I fucked up today. I’m a freshman in honors Sp...</td>\n",
       "      <td>t2_4z1tz3hj</td>\n",
       "      <td>9</td>\n",
       "    </tr>\n",
       "    <tr>\n",
       "      <th>...</th>\n",
       "      <td>...</td>\n",
       "      <td>...</td>\n",
       "      <td>...</td>\n",
       "      <td>...</td>\n",
       "    </tr>\n",
       "    <tr>\n",
       "      <th>992</th>\n",
       "      <td>TIFU by causing my iphone 7 plus to get loop d...</td>\n",
       "      <td>This happened a year ago but what happened was...</td>\n",
       "      <td>t2_137ib0ld</td>\n",
       "      <td>2</td>\n",
       "    </tr>\n",
       "    <tr>\n",
       "      <th>993</th>\n",
       "      <td>TIFU Throwing away my friends ashes from their...</td>\n",
       "      <td>It took me a lotttt of courage to want to post...</td>\n",
       "      <td>t2_9hzzhbsa</td>\n",
       "      <td>74</td>\n",
       "    </tr>\n",
       "    <tr>\n",
       "      <th>994</th>\n",
       "      <td>TIFU by waking up a customer on work experience</td>\n",
       "      <td>This didn't happen today, but many years ago. ...</td>\n",
       "      <td>t2_11x4qe</td>\n",
       "      <td>14</td>\n",
       "    </tr>\n",
       "    <tr>\n",
       "      <th>995</th>\n",
       "      <td>TIFU thinking I had covid</td>\n",
       "      <td>Dang I'm an idiot. This isn't nearly as seriou...</td>\n",
       "      <td>t2_8yy7r2j6</td>\n",
       "      <td>26</td>\n",
       "    </tr>\n",
       "    <tr>\n",
       "      <th>996</th>\n",
       "      <td>TIFU by using my school account for reddit</td>\n",
       "      <td>&amp;amp;#x200B;\\n\\nSo as you all know, people hav...</td>\n",
       "      <td>t2_7fw2iwt2</td>\n",
       "      <td>18</td>\n",
       "    </tr>\n",
       "  </tbody>\n",
       "</table>\n",
       "<p>997 rows × 4 columns</p>\n",
       "</div>"
      ],
      "text/plain": [
       "                                                 title  \\\n",
       "0                              TIFU by taking a shower   \n",
       "1       TIFU by browsing r/fiftyfifty and losing sleep   \n",
       "2               TIFU by telling my boss to \"calm down\"   \n",
       "3               TIFU by forgetting an old friends name   \n",
       "4    TIFU by Flexing My Living Dog on My Teachers D...   \n",
       "..                                                 ...   \n",
       "992  TIFU by causing my iphone 7 plus to get loop d...   \n",
       "993  TIFU Throwing away my friends ashes from their...   \n",
       "994    TIFU by waking up a customer on work experience   \n",
       "995                          TIFU thinking I had covid   \n",
       "996         TIFU by using my school account for reddit   \n",
       "\n",
       "                                                  post       author upvotes  \n",
       "0    TIFU by taking a shower\\n\\nSo every few weeks ...  t2_89q9siuo       1  \n",
       "1    It all began yesterday when I watched a Markip...  t2_3t2oni5g       3  \n",
       "2    My boss was overreacting to a specific problem...  t2_94zvws05       4  \n",
       "3    Obligatory disclaimer, this actually happened ...     t2_xiel0       3  \n",
       "4    I fucked up today. I’m a freshman in honors Sp...  t2_4z1tz3hj       9  \n",
       "..                                                 ...          ...     ...  \n",
       "992  This happened a year ago but what happened was...  t2_137ib0ld       2  \n",
       "993  It took me a lotttt of courage to want to post...  t2_9hzzhbsa      74  \n",
       "994  This didn't happen today, but many years ago. ...    t2_11x4qe      14  \n",
       "995  Dang I'm an idiot. This isn't nearly as seriou...  t2_8yy7r2j6      26  \n",
       "996  &amp;#x200B;\\n\\nSo as you all know, people hav...  t2_7fw2iwt2      18  \n",
       "\n",
       "[997 rows x 4 columns]"
      ]
     },
     "execution_count": 37,
     "metadata": {},
     "output_type": "execute_result"
    }
   ],
   "source": [
    "df_tifu_compiled"
   ]
  },
  {
   "cell_type": "code",
   "execution_count": 38,
   "metadata": {},
   "outputs": [],
   "source": [
    "# exporting the compiled table to csv\n",
    "df_tifu_compiled.to_csv(r'../01_data/notebook3_df_tifu_compiled.csv', index=False)\n",
    "df_confessions_compiled.to_csv(r'../01_data/notebook3_df_confessions_compiled.csv', index=False)"
   ]
  },
  {
   "cell_type": "markdown",
   "metadata": {},
   "source": [
    "<a name=\"clean\"></a>\n",
    "### Cleaning of Title and Post"
   ]
  },
  {
   "cell_type": "code",
   "execution_count": 39,
   "metadata": {},
   "outputs": [],
   "source": [
    "# binarize our classifier: 'is_tifu'\n",
    "df_confessions_compiled['is_tifu'] = 0\n",
    "df_tifu_compiled['is_tifu'] = 1"
   ]
  },
  {
   "cell_type": "markdown",
   "metadata": {},
   "source": [
    "\n",
    "Combine the classified posts in a single DataFrame, then replace all NaN values with ' '."
   ]
  },
  {
   "cell_type": "code",
   "execution_count": 40,
   "metadata": {},
   "outputs": [],
   "source": [
    "df = pd.concat([df_tifu_compiled,df_confessions_compiled])"
   ]
  },
  {
   "cell_type": "code",
   "execution_count": 41,
   "metadata": {},
   "outputs": [
    {
     "data": {
      "text/plain": [
       "title      0\n",
       "post       0\n",
       "author     0\n",
       "upvotes    0\n",
       "is_tifu    0\n",
       "dtype: int64"
      ]
     },
     "execution_count": 41,
     "metadata": {},
     "output_type": "execute_result"
    }
   ],
   "source": [
    "df.isnull().sum()"
   ]
  },
  {
   "cell_type": "code",
   "execution_count": 42,
   "metadata": {},
   "outputs": [],
   "source": [
    "# fill any na with blank\n",
    "df.post.fillna(' ', inplace = True)"
   ]
  },
  {
   "cell_type": "markdown",
   "metadata": {},
   "source": [
    "A separate column will combine the title and post columns as we want to use it as our testing vector later on."
   ]
  },
  {
   "cell_type": "code",
   "execution_count": 43,
   "metadata": {},
   "outputs": [],
   "source": [
    "df['test_vector'] = df['title'] + ' ' + df['post']"
   ]
  },
  {
   "cell_type": "code",
   "execution_count": 44,
   "metadata": {},
   "outputs": [],
   "source": [
    "#reset index\n",
    "df.reset_index(inplace = True)"
   ]
  },
  {
   "cell_type": "code",
   "execution_count": 45,
   "metadata": {
    "scrolled": false
   },
   "outputs": [
    {
     "data": {
      "text/html": [
       "<div>\n",
       "<style scoped>\n",
       "    .dataframe tbody tr th:only-of-type {\n",
       "        vertical-align: middle;\n",
       "    }\n",
       "\n",
       "    .dataframe tbody tr th {\n",
       "        vertical-align: top;\n",
       "    }\n",
       "\n",
       "    .dataframe thead th {\n",
       "        text-align: right;\n",
       "    }\n",
       "</style>\n",
       "<table border=\"1\" class=\"dataframe\">\n",
       "  <thead>\n",
       "    <tr style=\"text-align: right;\">\n",
       "      <th></th>\n",
       "      <th>index</th>\n",
       "      <th>title</th>\n",
       "      <th>post</th>\n",
       "      <th>author</th>\n",
       "      <th>upvotes</th>\n",
       "      <th>is_tifu</th>\n",
       "      <th>test_vector</th>\n",
       "    </tr>\n",
       "  </thead>\n",
       "  <tbody>\n",
       "    <tr>\n",
       "      <th>0</th>\n",
       "      <td>0</td>\n",
       "      <td>TIFU by taking a shower</td>\n",
       "      <td>TIFU by taking a shower\\n\\nSo every few weeks ...</td>\n",
       "      <td>t2_89q9siuo</td>\n",
       "      <td>1</td>\n",
       "      <td>1</td>\n",
       "      <td>TIFU by taking a shower TIFU by taking a showe...</td>\n",
       "    </tr>\n",
       "    <tr>\n",
       "      <th>1</th>\n",
       "      <td>1</td>\n",
       "      <td>TIFU by browsing r/fiftyfifty and losing sleep</td>\n",
       "      <td>It all began yesterday when I watched a Markip...</td>\n",
       "      <td>t2_3t2oni5g</td>\n",
       "      <td>3</td>\n",
       "      <td>1</td>\n",
       "      <td>TIFU by browsing r/fiftyfifty and losing sleep...</td>\n",
       "    </tr>\n",
       "    <tr>\n",
       "      <th>2</th>\n",
       "      <td>2</td>\n",
       "      <td>TIFU by telling my boss to \"calm down\"</td>\n",
       "      <td>My boss was overreacting to a specific problem...</td>\n",
       "      <td>t2_94zvws05</td>\n",
       "      <td>4</td>\n",
       "      <td>1</td>\n",
       "      <td>TIFU by telling my boss to \"calm down\" My boss...</td>\n",
       "    </tr>\n",
       "    <tr>\n",
       "      <th>3</th>\n",
       "      <td>3</td>\n",
       "      <td>TIFU by forgetting an old friends name</td>\n",
       "      <td>Obligatory disclaimer, this actually happened ...</td>\n",
       "      <td>t2_xiel0</td>\n",
       "      <td>3</td>\n",
       "      <td>1</td>\n",
       "      <td>TIFU by forgetting an old friends name Obligat...</td>\n",
       "    </tr>\n",
       "    <tr>\n",
       "      <th>4</th>\n",
       "      <td>4</td>\n",
       "      <td>TIFU by Flexing My Living Dog on My Teachers D...</td>\n",
       "      <td>I fucked up today. I’m a freshman in honors Sp...</td>\n",
       "      <td>t2_4z1tz3hj</td>\n",
       "      <td>9</td>\n",
       "      <td>1</td>\n",
       "      <td>TIFU by Flexing My Living Dog on My Teachers D...</td>\n",
       "    </tr>\n",
       "  </tbody>\n",
       "</table>\n",
       "</div>"
      ],
      "text/plain": [
       "   index                                              title  \\\n",
       "0      0                            TIFU by taking a shower   \n",
       "1      1     TIFU by browsing r/fiftyfifty and losing sleep   \n",
       "2      2             TIFU by telling my boss to \"calm down\"   \n",
       "3      3             TIFU by forgetting an old friends name   \n",
       "4      4  TIFU by Flexing My Living Dog on My Teachers D...   \n",
       "\n",
       "                                                post       author upvotes  \\\n",
       "0  TIFU by taking a shower\\n\\nSo every few weeks ...  t2_89q9siuo       1   \n",
       "1  It all began yesterday when I watched a Markip...  t2_3t2oni5g       3   \n",
       "2  My boss was overreacting to a specific problem...  t2_94zvws05       4   \n",
       "3  Obligatory disclaimer, this actually happened ...     t2_xiel0       3   \n",
       "4  I fucked up today. I’m a freshman in honors Sp...  t2_4z1tz3hj       9   \n",
       "\n",
       "   is_tifu                                        test_vector  \n",
       "0        1  TIFU by taking a shower TIFU by taking a showe...  \n",
       "1        1  TIFU by browsing r/fiftyfifty and losing sleep...  \n",
       "2        1  TIFU by telling my boss to \"calm down\" My boss...  \n",
       "3        1  TIFU by forgetting an old friends name Obligat...  \n",
       "4        1  TIFU by Flexing My Living Dog on My Teachers D...  "
      ]
     },
     "execution_count": 45,
     "metadata": {},
     "output_type": "execute_result"
    }
   ],
   "source": [
    "df.head()"
   ]
  },
  {
   "cell_type": "code",
   "execution_count": 46,
   "metadata": {},
   "outputs": [
    {
     "data": {
      "text/html": [
       "<div>\n",
       "<style scoped>\n",
       "    .dataframe tbody tr th:only-of-type {\n",
       "        vertical-align: middle;\n",
       "    }\n",
       "\n",
       "    .dataframe tbody tr th {\n",
       "        vertical-align: top;\n",
       "    }\n",
       "\n",
       "    .dataframe thead th {\n",
       "        text-align: right;\n",
       "    }\n",
       "</style>\n",
       "<table border=\"1\" class=\"dataframe\">\n",
       "  <thead>\n",
       "    <tr style=\"text-align: right;\">\n",
       "      <th></th>\n",
       "      <th>index</th>\n",
       "      <th>title</th>\n",
       "      <th>post</th>\n",
       "      <th>author</th>\n",
       "      <th>upvotes</th>\n",
       "      <th>is_tifu</th>\n",
       "      <th>test_vector</th>\n",
       "    </tr>\n",
       "  </thead>\n",
       "  <tbody>\n",
       "    <tr>\n",
       "      <th>1986</th>\n",
       "      <td>989</td>\n",
       "      <td>I made a big mistake out of rage</td>\n",
       "      <td>So yesterday I discovered a horrible subreddit...</td>\n",
       "      <td>t2_710w9o7q</td>\n",
       "      <td>29</td>\n",
       "      <td>0</td>\n",
       "      <td>I made a big mistake out of rage So yesterday ...</td>\n",
       "    </tr>\n",
       "    <tr>\n",
       "      <th>1987</th>\n",
       "      <td>990</td>\n",
       "      <td>could I be a psychopath/sociopath</td>\n",
       "      <td>I’m here because I’ve become aware that I coul...</td>\n",
       "      <td>t2_5hcuodez</td>\n",
       "      <td>5</td>\n",
       "      <td>0</td>\n",
       "      <td>could I be a psychopath/sociopath I’m here bec...</td>\n",
       "    </tr>\n",
       "    <tr>\n",
       "      <th>1988</th>\n",
       "      <td>991</td>\n",
       "      <td>2020 was the best year of my life</td>\n",
       "      <td>Everywhere people are celebrating the end of 2...</td>\n",
       "      <td>t2_4ox70h6s</td>\n",
       "      <td>19</td>\n",
       "      <td>0</td>\n",
       "      <td>2020 was the best year of my life Everywhere p...</td>\n",
       "    </tr>\n",
       "    <tr>\n",
       "      <th>1989</th>\n",
       "      <td>992</td>\n",
       "      <td>My dream is to have sex with a lioness</td>\n",
       "      <td>They are so graceful and sexy. I have had sex ...</td>\n",
       "      <td>t2_9fe3wzwm</td>\n",
       "      <td>0</td>\n",
       "      <td>0</td>\n",
       "      <td>My dream is to have sex with a lioness They ar...</td>\n",
       "    </tr>\n",
       "    <tr>\n",
       "      <th>1990</th>\n",
       "      <td>993</td>\n",
       "      <td>I like girls with braces</td>\n",
       "      <td>No fetish here, nothing sexual. I think girls ...</td>\n",
       "      <td>t2_8rywv1es</td>\n",
       "      <td>24</td>\n",
       "      <td>0</td>\n",
       "      <td>I like girls with braces No fetish here, nothi...</td>\n",
       "    </tr>\n",
       "  </tbody>\n",
       "</table>\n",
       "</div>"
      ],
      "text/plain": [
       "      index                                   title  \\\n",
       "1986    989        I made a big mistake out of rage   \n",
       "1987    990       could I be a psychopath/sociopath   \n",
       "1988    991       2020 was the best year of my life   \n",
       "1989    992  My dream is to have sex with a lioness   \n",
       "1990    993                I like girls with braces   \n",
       "\n",
       "                                                   post       author upvotes  \\\n",
       "1986  So yesterday I discovered a horrible subreddit...  t2_710w9o7q      29   \n",
       "1987  I’m here because I’ve become aware that I coul...  t2_5hcuodez       5   \n",
       "1988  Everywhere people are celebrating the end of 2...  t2_4ox70h6s      19   \n",
       "1989  They are so graceful and sexy. I have had sex ...  t2_9fe3wzwm       0   \n",
       "1990  No fetish here, nothing sexual. I think girls ...  t2_8rywv1es      24   \n",
       "\n",
       "      is_tifu                                        test_vector  \n",
       "1986        0  I made a big mistake out of rage So yesterday ...  \n",
       "1987        0  could I be a psychopath/sociopath I’m here bec...  \n",
       "1988        0  2020 was the best year of my life Everywhere p...  \n",
       "1989        0  My dream is to have sex with a lioness They ar...  \n",
       "1990        0  I like girls with braces No fetish here, nothi...  "
      ]
     },
     "execution_count": 46,
     "metadata": {},
     "output_type": "execute_result"
    }
   ],
   "source": [
    "df.tail()"
   ]
  },
  {
   "cell_type": "code",
   "execution_count": 47,
   "metadata": {},
   "outputs": [
    {
     "data": {
      "text/plain": [
       "(1991, 7)"
      ]
     },
     "execution_count": 47,
     "metadata": {},
     "output_type": "execute_result"
    }
   ],
   "source": [
    "df.shape"
   ]
  },
  {
   "cell_type": "markdown",
   "metadata": {},
   "source": [
    "The combine dataframe of the 2 subreddits contain 1991 rows with 7 columns."
   ]
  },
  {
   "cell_type": "markdown",
   "metadata": {},
   "source": [
    "<a name=\"20words\"></a>\n",
    "### Pre-Cleaning Check of Top 20 Words"
   ]
  },
  {
   "cell_type": "markdown",
   "metadata": {},
   "source": [
    "We will take a look at the top 20 most common words used in both subreddits"
   ]
  },
  {
   "cell_type": "code",
   "execution_count": 48,
   "metadata": {},
   "outputs": [],
   "source": [
    "combine_tifu = df['test_vector'].loc[df['is_tifu'] == 1]\n",
    "combine_con = df['test_vector'].loc[df['is_tifu'] == 0]"
   ]
  },
  {
   "cell_type": "code",
   "execution_count": 49,
   "metadata": {
    "scrolled": false
   },
   "outputs": [
    {
     "data": {
      "image/png": "[encoded data removed]",
      "text/plain": [
       "<Figure size 1080x720 with 2 Axes>"
      ]
     },
     "metadata": {
      "needs_background": "light"
     },
     "output_type": "display_data"
    }
   ],
   "source": [
    "cvec = CountVectorizer(stop_words = ENGLISH_STOP_WORDS, ngram_range=(2,3))\n",
    "\n",
    "# r/tifu - fit/transform count vectoriser to title and get the 50 phrases with the highest count\n",
    "vec_tifu = cvec.fit_transform(combine_tifu)\n",
    "vec_tifu = pd.DataFrame(vec_tifu.toarray(), columns = cvec.get_feature_names())\n",
    "tifu_title_50 = vec_tifu.sum().sort_values(ascending=False).head(20)\n",
    "\n",
    "# r/confessions - fit/transform count vectoriser to title and get the 50 phrases with the highest count\n",
    "vec_con = cvec.fit_transform(combine_con)\n",
    "vec_con = pd.DataFrame(vec_con.toarray(), columns = cvec.get_feature_names())\n",
    "con_title_50 = vec_con.sum().sort_values(ascending=False).head(20)\n",
    "\n",
    "# plot results\n",
    "fit, ax = plt.subplots(nrows = 1, ncols = 2, figsize=(15,10), sharex = True)\n",
    "\n",
    "sns.barplot(y=tifu_title_50.index.values, x = tifu_title_50,color='skyblue',ax=ax[0])\n",
    "ax[0].set_title('top 20 words in r/tifu titles',fontsize=16)\n",
    "ax[0].set_xlabel('count of words/phrases', fontsize=13)\n",
    "plt.setp(ax[0].get_yticklabels(), fontsize=14)\n",
    "\n",
    "sns.barplot(y=con_title_50.index.values, x = con_title_50,color='skyblue',ax=ax[1])\n",
    "ax[1].set_title('top 20 words in r/confessions titles',fontsize=16)\n",
    "ax[1].set_xlabel('count of words/phrases', fontsize=13)\n",
    "plt.setp(ax[1].get_yticklabels(), fontsize=14)\n",
    "\n",
    "plt.tight_layout()"
   ]
  },
  {
   "cell_type": "markdown",
   "metadata": {},
   "source": [
    "We can see from above that there is a high number of 'tl dr' in the r/tifu subreddit. This is due to the subreddit formatting which requires posters to include a tl;dr (too long didn't read) in their posts.\n",
    "\n",
    "For r/confessions, we need to check why hitler is being mentioned a couple of times."
   ]
  },
  {
   "cell_type": "code",
   "execution_count": 50,
   "metadata": {},
   "outputs": [],
   "source": [
    "# lowercase the text in the vector column\n",
    "df['test_vector'] = df['test_vector'].str.lower()"
   ]
  },
  {
   "cell_type": "code",
   "execution_count": 51,
   "metadata": {
    "scrolled": true
   },
   "outputs": [
    {
     "data": {
      "text/html": [
       "<div>\n",
       "<style scoped>\n",
       "    .dataframe tbody tr th:only-of-type {\n",
       "        vertical-align: middle;\n",
       "    }\n",
       "\n",
       "    .dataframe tbody tr th {\n",
       "        vertical-align: top;\n",
       "    }\n",
       "\n",
       "    .dataframe thead th {\n",
       "        text-align: right;\n",
       "    }\n",
       "</style>\n",
       "<table border=\"1\" class=\"dataframe\">\n",
       "  <thead>\n",
       "    <tr style=\"text-align: right;\">\n",
       "      <th></th>\n",
       "      <th>index</th>\n",
       "      <th>title</th>\n",
       "      <th>post</th>\n",
       "      <th>author</th>\n",
       "      <th>upvotes</th>\n",
       "      <th>is_tifu</th>\n",
       "      <th>test_vector</th>\n",
       "    </tr>\n",
       "  </thead>\n",
       "  <tbody>\n",
       "    <tr>\n",
       "      <th>25</th>\n",
       "      <td>25</td>\n",
       "      <td>TIFU by throwing an icy snowball at my classmate</td>\n",
       "      <td>It snowed like crazy today, snow we didn't hav...</td>\n",
       "      <td>t2_4957a68b</td>\n",
       "      <td>8</td>\n",
       "      <td>1</td>\n",
       "      <td>tifu by throwing an icy snowball at my classma...</td>\n",
       "    </tr>\n",
       "    <tr>\n",
       "      <th>239</th>\n",
       "      <td>239</td>\n",
       "      <td>TIFU by drawing a swastika</td>\n",
       "      <td>Disclaimer: Ok, I have been wondering for a fe...</td>\n",
       "      <td>t2_lo8egwr</td>\n",
       "      <td>17</td>\n",
       "      <td>1</td>\n",
       "      <td>tifu by drawing a swastika disclaimer: ok, i h...</td>\n",
       "    </tr>\n",
       "    <tr>\n",
       "      <th>1202</th>\n",
       "      <td>205</td>\n",
       "      <td>I’m racist and I’m proud! 卐💪🏻👱🏻‍♂️ I’m racist ...</td>\n",
       "      <td>Heil Hitler! 🤚🏻 卐 Heil Hitler! 🤚🏻 卐 Heil Hitle...</td>\n",
       "      <td>t2_9s21wrdb</td>\n",
       "      <td>0</td>\n",
       "      <td>0</td>\n",
       "      <td>i’m racist and i’m proud! 卐💪🏻👱🏻‍♂️ i’m racist ...</td>\n",
       "    </tr>\n",
       "    <tr>\n",
       "      <th>1253</th>\n",
       "      <td>256</td>\n",
       "      <td>Hitler was right about a lot of things, mostly...</td>\n",
       "      <td>Firstly the white race should be preserved. Wh...</td>\n",
       "      <td>t2_9j9e4ee2</td>\n",
       "      <td>0</td>\n",
       "      <td>0</td>\n",
       "      <td>hitler was right about a lot of things, mostly...</td>\n",
       "    </tr>\n",
       "    <tr>\n",
       "      <th>1371</th>\n",
       "      <td>374</td>\n",
       "      <td>I met hitler in my dreams...</td>\n",
       "      <td>It was frightening, He was raping the shit out...</td>\n",
       "      <td>t2_5d9ddt1h</td>\n",
       "      <td>0</td>\n",
       "      <td>0</td>\n",
       "      <td>i met hitler in my dreams... it was frightenin...</td>\n",
       "    </tr>\n",
       "    <tr>\n",
       "      <th>1594</th>\n",
       "      <td>597</td>\n",
       "      <td>Hitler Did Nothing Wrong!</td>\n",
       "      <td>MAGA! Heil Trump!</td>\n",
       "      <td>t2_9p95nnj3</td>\n",
       "      <td>0</td>\n",
       "      <td>0</td>\n",
       "      <td>hitler did nothing wrong! maga! heil trump!</td>\n",
       "    </tr>\n",
       "  </tbody>\n",
       "</table>\n",
       "</div>"
      ],
      "text/plain": [
       "      index                                              title  \\\n",
       "25       25   TIFU by throwing an icy snowball at my classmate   \n",
       "239     239                         TIFU by drawing a swastika   \n",
       "1202    205  I’m racist and I’m proud! 卐💪🏻👱🏻‍♂️ I’m racist ...   \n",
       "1253    256  Hitler was right about a lot of things, mostly...   \n",
       "1371    374                       I met hitler in my dreams...   \n",
       "1594    597                          Hitler Did Nothing Wrong!   \n",
       "\n",
       "                                                   post       author upvotes  \\\n",
       "25    It snowed like crazy today, snow we didn't hav...  t2_4957a68b       8   \n",
       "239   Disclaimer: Ok, I have been wondering for a fe...   t2_lo8egwr      17   \n",
       "1202  Heil Hitler! 🤚🏻 卐 Heil Hitler! 🤚🏻 卐 Heil Hitle...  t2_9s21wrdb       0   \n",
       "1253  Firstly the white race should be preserved. Wh...  t2_9j9e4ee2       0   \n",
       "1371  It was frightening, He was raping the shit out...  t2_5d9ddt1h       0   \n",
       "1594                                  MAGA! Heil Trump!  t2_9p95nnj3       0   \n",
       "\n",
       "      is_tifu                                        test_vector  \n",
       "25          1  tifu by throwing an icy snowball at my classma...  \n",
       "239         1  tifu by drawing a swastika disclaimer: ok, i h...  \n",
       "1202        0  i’m racist and i’m proud! 卐💪🏻👱🏻‍♂️ i’m racist ...  \n",
       "1253        0  hitler was right about a lot of things, mostly...  \n",
       "1371        0  i met hitler in my dreams... it was frightenin...  \n",
       "1594        0        hitler did nothing wrong! maga! heil trump!  "
      ]
     },
     "execution_count": 51,
     "metadata": {},
     "output_type": "execute_result"
    }
   ],
   "source": [
    "# find all rows mentioning hitler in the posts\n",
    "df[df['test_vector'].str.contains('hitler')]"
   ]
  },
  {
   "cell_type": "markdown",
   "metadata": {},
   "source": [
    "Below are the posts which mentioned, \"Hitler\" and will analyse if it is spam or not."
   ]
  },
  {
   "cell_type": "code",
   "execution_count": 52,
   "metadata": {
    "scrolled": true
   },
   "outputs": [
    {
     "data": {
      "text/plain": [
       "\"tifu by throwing an icy snowball at my classmate it snowed like crazy today, snow we didn't have for an entire year, wich reminded me of this story. oh boy. alright so this happened a year ago. cold january. also, sorry for any formatting issues, mobile, and if it's too long. \\n\\nit had just snowed in the city where i live, and like every winter, the students at my school decide to play snowball fights, sometimes ending in disasters such as broken windows or... this.\\n\\nso one of my classmates was standing around with some other girls from my class. i walk past, minding my buiseness, just walking. in case you're wondering that's what i do every break. so this girl decided to throw an icy snowball at me, those rock hard ones that can be used as weapons.\\n\\nit hit my back and, well, she provoked me. i threw the snowball back. she wasn't facing me so i was expecting it to hit her back like she did. however she did the despicable act of turning around. and it hit her nose. i feel like karma's a bitch fits this very well. both ways (you'll see why in a bit). \\n\\nnow you have to understand that i was very lucky here. the snowball hit millimeters from her eye. if it hit her eye, it could've killed her. i wasn't so lucky tho since her nose started to bleed after that. the girls brought her to class and helped her to stop the bleeding.\\n\\nwhen everyone got back to class, everyone, and i legit mean, everyone, was giving me a death stare. the teachers were also looking at me like i committed a hitler-level war crime. i was crying at my desk, i simply couldn't realize what happened. i felt like a monster. \\n\\nno, i didn't get detention or get suspended. i don't live in the us. i did get like a 5 minute lecture from the teacher that had to take care of our class.\\n\\nthe next day, tho. the boys weren't allowed to go outside. there was still plenty of snow for the record. i'm not sure if it was necessarily me who caused this (the broken window mentioned at the beginning might've contributed to this), but i felt so bad anyways. \\n\\nthankfully people stopped eyeing me after 3 days. and if you're wondering, yes i apologized to the girl a couple of times and se forgived me. you have to note that it was me who threw the snowball, thus being my mistake. not the girl turning around. just wanna make this clear. \\n\\ntl;dr: a girl threw an icy snowball at me. i threw it back and hit her nose, causing it to bleed. i destroyed my reputation, got hated by my classmates and maybe (not sure tho) made it so the boys couldn't go outside.\""
      ]
     },
     "execution_count": 52,
     "metadata": {},
     "output_type": "execute_result"
    }
   ],
   "source": [
    "df.iloc[25,:]['test_vector']"
   ]
  },
  {
   "cell_type": "code",
   "execution_count": 53,
   "metadata": {
    "scrolled": true
   },
   "outputs": [
    {
     "data": {
      "text/plain": [
       "'tifu by drawing a swastika disclaimer: ok, i have been wondering for a few weeks now if i should post this, i even thought about doing it on an alt account because i don\\'t know how people will react but fuck it i\\'m going hardcore. keep in mind that i\\'m very against war, the nazi movement, the holocaust and anything related to those.\\n\\nthis happened somewhere between 2009 and 2010, i was 9 back then, and i wasn\\'t even a stupid kid, i was actually kinda smart but never had any interest in wars and i hadn\\'t learned anything about ww2 in school so i knew nothing about nazis, hitler or anything that happened.\\n\\ni had just receive a laptop a year ago, it actually belonged to my mom but she didn\\'t use it. eventually i joined a forum where i met this girl, we started an online relationship which i regret today but as a kid with no maturity, being in a relationship was pretty tempting.\\n\\nanyway, she broke my heart in a messed up way. after we started dating, she suddenly disappeared for 2 months, one day i find out she came back and was dating a guy that was my friend on that same forum. having no one to talk to about it i decided to just write it all on paper.\\n\\nmy parents were against me talking to strangers online so i didn\\'t want them to see the letter, so i had to hide it.\\n\\ni don\\'t usually have posters on my room but at that time i had one poster about a sonic game on my wall. i decided to hide the letter behind that poster. for some reason i was really good at turning a piece of paper into an envelope with some origami-trickery magic whatever.\\n\\nso i made an envelope, put the letter inside it but the envelope was too simple so i decided to decorate it and stupid me realized \"you know what? this weird symbol (swastika) looks pretty sick\" so i drew it on the envelope.\\n\\na few weeks passed and one day my mom was cleaning my bedroom, she hit the poster and the envelope fell down.\\nmy mom is the kind of parent that respects my privacy so she didn\\'t open the letter.\\n\\nback then i was pretty relieved because she didn\\'t read it, she would get so pissed off if she knew i was talking to strangers online, during my adolescence i never understood why my mom sometimes said she was scared of me until recently when it finally struck me, it was because she saw the envelope and she thought that i was some sort of neo nazi or whatever, i kinda wish she had read the letter now.\\n\\ntldr: stupid me as a kid wrote a letter about a girl i met online, my parents would kill me if they knew i talked to strangers online so i hid it inside an envelope and drew a swastika on it because i didn\\'t know what it was and i just thought it looked cool, my mom found out and she didn\\'t read the letter inside so she was scared of me during my adolescence.'"
      ]
     },
     "execution_count": 53,
     "metadata": {},
     "output_type": "execute_result"
    }
   ],
   "source": [
    "df.iloc[239,:]['test_vector']"
   ]
  },
  {
   "cell_type": "code",
   "execution_count": 54,
   "metadata": {},
   "outputs": [
    {
     "data": {
      "text/plain": [
       "'i’m racist and i’m proud! 卐💪🏻👱🏻\\u200d♂️ i’m racist and i’m proud! 卐💪🏻👱🏻\\u200d♂️i’m racist and i’m proud! 卐💪🏻👱🏻\\u200d♂️ i’m racist and i’m proud! 卐💪🏻👱🏻\\u200d♂️i’m racist and i’m proud! 卐💪🏻👱🏻\\u200d♂️ i’m racist and i’m proud! 卐💪🏻👱🏻\\u200d♂️i’m racist and i’m proud! 卐💪🏻👱🏻\\u200d♂️ heil hitler! 🤚🏻 卐 heil hitler! 🤚🏻 卐 heil hitler! 🤚🏻 卐 heil hitler! 🤚🏻 卐 heil hitler! 🤚🏻 卐 heil hitler! 🤚🏻 卐 heil hitler! 🤚🏻 卐 heil hitler! 🤚🏻 卐 heil hitler! 🤚🏻 卐 heil hitler! 🤚🏻 卐 heil hitler! 🤚🏻 卐 heil hitler! 🤚🏻 卐 heil hitler! 🤚🏻 卐 heil hitler! 🤚🏻 卐 heil hitler! 🤚🏻 卐 heil hitler! 🤚🏻 卐 heil hitler! 🤚🏻 卐 heil hitler! 🤚🏻 卐 heil hitler! 🤚🏻 卐 heil hitler! 🤚🏻 卐 heil hitler! 🤚🏻 卐 heil hitler! 🤚🏻 卐 heil hitler! 🤚🏻 卐 heil hitler! 🤚🏻 卐 heil hitler! 🤚🏻 卐 heil hitler! 🤚🏻 卐 heil hitler! 🤚🏻 卐 heil hitler! 🤚🏻 卐 heil hitler! 🤚🏻 卐 heil hitler! 🤚🏻 卐 heil hitler! 🤚🏻 卐 heil hitler! 🤚🏻 卐 heil hitler! 🤚🏻 卐 heil hitler! 🤚🏻 卐 heil hitler! 🤚🏻 卐 heil hitler! 🤚🏻 卐'"
      ]
     },
     "execution_count": 54,
     "metadata": {},
     "output_type": "execute_result"
    }
   ],
   "source": [
    "df.iloc[1202,:]['test_vector']"
   ]
  },
  {
   "cell_type": "code",
   "execution_count": 55,
   "metadata": {},
   "outputs": [
    {
     "data": {
      "text/plain": [
       "\"hitler was right about a lot of things, mostly things we can all agree with. the problem lies within people who think everything hitler stood for is wrong. firstly the white race should be preserved. white is an anomaly, and should be protected. yeah mud blood aliens are all medium brown, but it would go to show our future thought if we preserved the one pure race on earth as long as we could.\\n\\n&amp;#x200b;\\n\\nas for hitlers idea of a one-planet government., it's common sense, and we shouldn't oppose it just because one bad man had a clear vision.\""
      ]
     },
     "execution_count": 55,
     "metadata": {},
     "output_type": "execute_result"
    }
   ],
   "source": [
    "df.iloc[1253,:]['test_vector']"
   ]
  },
  {
   "cell_type": "code",
   "execution_count": 56,
   "metadata": {
    "scrolled": false
   },
   "outputs": [
    {
     "data": {
      "text/plain": [
       "'i met hitler in my dreams... it was frightening, he was raping the shit out of me. i woke up to find my butthole wide open and i still remember it to this day...'"
      ]
     },
     "execution_count": 56,
     "metadata": {},
     "output_type": "execute_result"
    }
   ],
   "source": [
    "df.iloc[1371,:]['test_vector']"
   ]
  },
  {
   "cell_type": "code",
   "execution_count": 57,
   "metadata": {},
   "outputs": [
    {
     "data": {
      "text/plain": [
       "'hitler did nothing wrong! maga! heil trump!'"
      ]
     },
     "execution_count": 57,
     "metadata": {},
     "output_type": "execute_result"
    }
   ],
   "source": [
    "df.iloc[1594,:]['test_vector']"
   ]
  },
  {
   "cell_type": "markdown",
   "metadata": {},
   "source": [
    "The above posts contain the word hitler which contributed the high frequency of the word. However not all the posts above are spam as it was used in proper context in some of them. Posts like row 1202, 1253, 1371,1594 will be removed as they are either spam or do not follow the subreddit guidelines."
   ]
  },
  {
   "cell_type": "code",
   "execution_count": 58,
   "metadata": {},
   "outputs": [],
   "source": [
    "#dropping of rows\n",
    "df = df.drop(df.index[[1202,1253,1371,1594]])\n",
    "\n",
    "#reset index\n",
    "df.reset_index(inplace = True)"
   ]
  },
  {
   "cell_type": "code",
   "execution_count": 59,
   "metadata": {},
   "outputs": [],
   "source": [
    "#general regex clean\n",
    "regex_html = r'https?:\\/\\/(www\\.)?[-a-zA-Z0-9@:%._\\+~#=]{1,256}\\.[a-zA-Z0-9()]{1,6}\\b([-a-zA-Z0-9()@:%_\\+.~#?&//=]*)'\n",
    "df['test_vector'].replace(regex=True,inplace=True, to_replace=regex_html,value=r'')"
   ]
  },
  {
   "cell_type": "markdown",
   "metadata": {},
   "source": [
    "<a name=\"cleanVC\"></a>\n",
    "### Cleaning of Test Vector Column"
   ]
  },
  {
   "cell_type": "code",
   "execution_count": 60,
   "metadata": {},
   "outputs": [],
   "source": [
    "# this will remove commas\n",
    "df['test_vector']=df['test_vector'].apply(lambda x: x.split(',,,')[0])"
   ]
  },
  {
   "cell_type": "code",
   "execution_count": 61,
   "metadata": {},
   "outputs": [
    {
     "data": {
      "text/plain": [
       "0    tifu by taking a shower tifu by taking a showe...\n",
       "1    tifu by browsing r/fiftyfifty and losing sleep...\n",
       "2    tifu by telling my boss to \"calm down\" my boss...\n",
       "3    tifu by forgetting an old friends name obligat...\n",
       "4    tifu by flexing my living dog on my teachers d...\n",
       "Name: test_vector, dtype: object"
      ]
     },
     "execution_count": 61,
     "metadata": {},
     "output_type": "execute_result"
    }
   ],
   "source": [
    "df['test_vector'].head(5)"
   ]
  },
  {
   "cell_type": "code",
   "execution_count": 62,
   "metadata": {},
   "outputs": [
    {
     "data": {
      "text/plain": [
       "1    997\n",
       "0    990\n",
       "Name: is_tifu, dtype: int64"
      ]
     },
     "execution_count": 62,
     "metadata": {},
     "output_type": "execute_result"
    }
   ],
   "source": [
    "df.is_tifu.value_counts()"
   ]
  },
  {
   "cell_type": "code",
   "execution_count": 63,
   "metadata": {},
   "outputs": [
    {
     "name": "stderr",
     "output_type": "stream",
     "text": [
      "C:\\Users\\JDN\\anaconda3\\lib\\site-packages\\pandas\\core\\indexing.py:1636: SettingWithCopyWarning: \n",
      "A value is trying to be set on a copy of a slice from a DataFrame\n",
      "\n",
      "See the caveats in the documentation: https://pandas.pydata.org/pandas-docs/stable/user_guide/indexing.html#returning-a-view-versus-a-copy\n",
      "  self._setitem_single_block(indexer, value, name)\n"
     ]
    }
   ],
   "source": [
    "#removing specific items from column\n",
    "\n",
    "for i, text in enumerate(df.test_vector): # for each string in our combined column\n",
    "    text_loop = text.replace('&amp;','&')\n",
    "    text_loop = text_loop.replace('#x200B;',' ') # manually remove symbols &, nzsp, nbsp, \\n\n",
    "    text_loop = text_loop.replace('💔',' ')\n",
    "    text_loop = text_loop.replace('tldr',' ')\n",
    "    text_loop = text_loop.replace('tl',' ')\n",
    "    text_loop = text_loop.replace('dr',' ')\n",
    "    text_loop = text_loop.replace('tl dr',' ')\n",
    "    df.test_vector.iloc[i] = text_loop.replace('\\n',' ').strip()"
   ]
  },
  {
   "cell_type": "code",
   "execution_count": 64,
   "metadata": {
    "scrolled": true
   },
   "outputs": [
    {
     "data": {
      "image/png": "[encoded data removed]",
      "text/plain": [
       "<Figure size 1080x720 with 2 Axes>"
      ]
     },
     "metadata": {
      "needs_background": "light"
     },
     "output_type": "display_data"
    }
   ],
   "source": [
    "combine_tifu = df['test_vector'].loc[df['is_tifu'] == 1]\n",
    "combine_con = df['test_vector'].loc[df['is_tifu'] == 0]\n",
    "\n",
    "cvec = CountVectorizer(stop_words = ENGLISH_STOP_WORDS, ngram_range=(2,3))\n",
    "\n",
    "# r/tifu - fit/transform count vectoriser to title and get the 50 phrases with the highest count\n",
    "vec_tifu = cvec.fit_transform(combine_tifu)\n",
    "vec_tifu = pd.DataFrame(vec_tifu.toarray(), columns = cvec.get_feature_names())\n",
    "tifu_title_50 = vec_tifu.sum().sort_values(ascending=False).head(20)\n",
    "\n",
    "# r/confessions - fit/transform count vectoriser to title and get the 50 phrases with the highest count\n",
    "vec_con = cvec.fit_transform(combine_con)\n",
    "vec_con = pd.DataFrame(vec_con.toarray(), columns = cvec.get_feature_names())\n",
    "con_title_50 = vec_con.sum().sort_values(ascending=False).head(20)\n",
    "\n",
    "# plot results\n",
    "fit, ax = plt.subplots(nrows = 1, ncols = 2, figsize=(15,10), sharex = True)\n",
    "\n",
    "sns.barplot(y=tifu_title_50.index.values, x = tifu_title_50,color='skyblue',ax=ax[0])\n",
    "ax[0].set_title('top 20 words in r/tifu titles',fontsize=16)\n",
    "ax[0].set_xlabel('count of words/phrases', fontsize=13)\n",
    "plt.setp(ax[0].get_yticklabels(), fontsize=14)\n",
    "\n",
    "sns.barplot(y=con_title_50.index.values, x = con_title_50,color='skyblue',ax=ax[1])\n",
    "ax[1].set_title('top 20 words in r/confessions titles',fontsize=16)\n",
    "ax[1].set_xlabel('count of words/phrases', fontsize=13)\n",
    "plt.setp(ax[1].get_yticklabels(), fontsize=14)\n",
    "\n",
    "plt.tight_layout()"
   ]
  },
  {
   "cell_type": "markdown",
   "metadata": {},
   "source": [
    "Exporting a csv of the dataframe cleaned up."
   ]
  },
  {
   "cell_type": "code",
   "execution_count": 65,
   "metadata": {},
   "outputs": [],
   "source": [
    "df.to_csv(r'../01_data/notebook3_df.csv', index=False)"
   ]
  },
  {
   "cell_type": "markdown",
   "metadata": {},
   "source": [
    "<p style=\"color:red\">  \n",
    "    <b>Are distributions examined and described?<br>\n",
    "    Are appropriate summary statistics provided?</b><br>   \n",
    "    Examples of NLP EDA:<a href=\"https://neptune.ai/blog/exploratory-data-analysis-natural-language-processing-tools\"> Link</a>\n",
    "</p>\n",
    "\n",
    "<p style=\"color:red\">  \n",
    "    <b>Are outliers identified and addressed?<br></b>\n",
    "    <ul style=\"color:red\">\n",
    "        <li>Look at distribution of number of words per post using hist</li>\n",
    "        <li>Identify if there are any entries that are abnormal</li>\n",
    "        <li>Can drop / impute short entries</li>\n",
    "    </ul>\n",
    "    <ul style=\"color:red\">\n",
    "        <li>Look at distribution of common words</li>\n",
    "        <li>Can add non-meaningful words to stopwords</li>\n",
    "    </ul>\n",
    "</p>\n"
   ]
  },
  {
   "cell_type": "markdown",
   "metadata": {},
   "source": [
    "<a name=\"token\"></a>\n",
    "### Tokenizing"
   ]
  },
  {
   "cell_type": "markdown",
   "metadata": {},
   "source": [
    "We will now tokenize the test_vector column."
   ]
  },
  {
   "cell_type": "code",
   "execution_count": 66,
   "metadata": {},
   "outputs": [],
   "source": [
    "rt = RegexpTokenizer(r\"[\\w/\\']+\") \n",
    "tv_tokens = []  # empty token list\n",
    "\n",
    "for i in range(len(df.test_vector)):\n",
    "    loop_tokens = rt.tokenize(df.test_vector.iloc[i]) # use iloc to skip removed rows\n",
    "    for j, token in enumerate(loop_tokens):\n",
    "        if re.match(r\"\\d+[\\w]*\", token):\n",
    "            loop_tokens[j] = ''\n",
    "        if re.match(r\"//[\\w]*\", token):\n",
    "            loop_tokens[j] = ''\n",
    "        if ('tldr' in token)|('TLDR' in token)|('tl:dr' in token)|('TL:DR' in token):\n",
    "            loop_tokens[j] = ''\n",
    "        if ('tifu' in token)|('confessions' in token)|('http' in token):\n",
    "            loop_tokens[j] = ''\n",
    "    tv_tokens.append(loop_tokens)                    # add tokenized string to post_tokens list"
   ]
  },
  {
   "cell_type": "code",
   "execution_count": 67,
   "metadata": {},
   "outputs": [
    {
     "data": {
      "text/plain": [
       "[['',\n",
       "  'by',\n",
       "  'taking',\n",
       "  'a',\n",
       "  'shower',\n",
       "  '',\n",
       "  'by',\n",
       "  'taking',\n",
       "  'a',\n",
       "  'shower',\n",
       "  'so',\n",
       "  'every',\n",
       "  'few',\n",
       "  'weeks',\n",
       "  'we',\n",
       "  'have',\n",
       "  'a',\n",
       "  'someone',\n",
       "  'who',\n",
       "  'cleans',\n",
       "  'our',\n",
       "  'house',\n",
       "  'today',\n",
       "  'is',\n",
       "  'one',\n",
       "  'of',\n",
       "  'those',\n",
       "  'days',\n",
       "  'well',\n",
       "  'i',\n",
       "  'realize',\n",
       "  'i',\n",
       "  'have',\n",
       "  'to',\n",
       "  'go',\n",
       "  'to',\n",
       "  'work',\n",
       "  'today',\n",
       "  'so',\n",
       "  'i',\n",
       "  'hop',\n",
       "  'in',\n",
       "  'the',\n",
       "  'shower',\n",
       "  'not',\n",
       "  'thinking',\n",
       "  'anything',\n",
       "  'of',\n",
       "  'it',\n",
       "  'i',\n",
       "  'finish',\n",
       "  'up',\n",
       "  'and',\n",
       "  'realize',\n",
       "  'that',\n",
       "  'the',\n",
       "  'cleaner',\n",
       "  'has',\n",
       "  'taken',\n",
       "  'all',\n",
       "  'of',\n",
       "  'the',\n",
       "  'towels',\n",
       "  'out',\n",
       "  'of',\n",
       "  'the',\n",
       "  'bathroom',\n",
       "  'to',\n",
       "  'be',\n",
       "  'washed',\n",
       "  'so',\n",
       "  'im',\n",
       "  'standing',\n",
       "  'in',\n",
       "  'the',\n",
       "  'shower',\n",
       "  'ipping',\n",
       "  'wet',\n",
       "  'thinking',\n",
       "  'how',\n",
       "  'im',\n",
       "  'going',\n",
       "  'to',\n",
       "  'go',\n",
       "  'get',\n",
       "  'a',\n",
       "  'towel',\n",
       "  'without',\n",
       "  'traumatizing',\n",
       "  'the',\n",
       "  'cleaner',\n",
       "  'so',\n",
       "  'i',\n",
       "  'get',\n",
       "  'the',\n",
       "  'great',\n",
       "  'idea',\n",
       "  'to',\n",
       "  'run',\n",
       "  'to',\n",
       "  'my',\n",
       "  'room',\n",
       "  'and',\n",
       "  'hope',\n",
       "  'the',\n",
       "  'cleaner',\n",
       "  'isn',\n",
       "  't',\n",
       "  'outside',\n",
       "  'the',\n",
       "  'bathroom',\n",
       "  'i',\n",
       "  'open',\n",
       "  'the',\n",
       "  'door',\n",
       "  'and',\n",
       "  'start',\n",
       "  'my',\n",
       "  'mad',\n",
       "  'dash',\n",
       "  'to',\n",
       "  'my',\n",
       "  'room',\n",
       "  'and',\n",
       "  'i',\n",
       "  'look',\n",
       "  'down',\n",
       "  'the',\n",
       "  'hallway',\n",
       "  'well',\n",
       "  'lo',\n",
       "  'and',\n",
       "  'behold',\n",
       "  'the',\n",
       "  'cleaner',\n",
       "  'is',\n",
       "  'standing',\n",
       "  'in',\n",
       "  'the',\n",
       "  'hallway',\n",
       "  'just',\n",
       "  'staring',\n",
       "  'while',\n",
       "  'im',\n",
       "  'running',\n",
       "  'as',\n",
       "  'fast',\n",
       "  'as',\n",
       "  'i',\n",
       "  'can',\n",
       "  'while',\n",
       "  'not',\n",
       "  'slipping',\n",
       "  'i',\n",
       "  'y',\n",
       "  'off',\n",
       "  'and',\n",
       "  'get',\n",
       "  'essed',\n",
       "  'in',\n",
       "  'my',\n",
       "  'room',\n",
       "  'so',\n",
       "  'now',\n",
       "  'im',\n",
       "  'sitting',\n",
       "  'in',\n",
       "  'my',\n",
       "  'room',\n",
       "  'making',\n",
       "  'this',\n",
       "  'post',\n",
       "  'and',\n",
       "  'wondering',\n",
       "  'how',\n",
       "  'im',\n",
       "  'going',\n",
       "  'to',\n",
       "  'pay',\n",
       "  'for',\n",
       "  'the',\n",
       "  'therapy',\n",
       "  'the',\n",
       "  'cleaner',\n",
       "  'is',\n",
       "  'going',\n",
       "  'to',\n",
       "  'require',\n",
       "  'after',\n",
       "  'seeing',\n",
       "  'my',\n",
       "  'naked',\n",
       "  'ass',\n",
       "  'slip',\n",
       "  'and',\n",
       "  'sliding',\n",
       "  'down',\n",
       "  'the',\n",
       "  'hallway',\n",
       "  'sorry',\n",
       "  'for',\n",
       "  'any',\n",
       "  'spelling/grammar',\n",
       "  'mistakes',\n",
       "  'im',\n",
       "  'so',\n",
       "  'mortified',\n",
       "  'i',\n",
       "  'cant',\n",
       "  'think',\n",
       "  'straight',\n",
       "  'i',\n",
       "  'traumatized',\n",
       "  'my',\n",
       "  'house',\n",
       "  'cleaner',\n",
       "  'by',\n",
       "  'forgetting',\n",
       "  'a',\n",
       "  'towel',\n",
       "  'and',\n",
       "  'running',\n",
       "  'naked',\n",
       "  'to',\n",
       "  'my',\n",
       "  'room']]"
      ]
     },
     "execution_count": 67,
     "metadata": {},
     "output_type": "execute_result"
    }
   ],
   "source": [
    "tv_tokens[:1]"
   ]
  },
  {
   "cell_type": "markdown",
   "metadata": {},
   "source": [
    "<a name=\"stem\"></a>\n",
    "### Stemming of Tokens\n",
    "\n",
    "After cleaning the posts, the a copy of the texts will be stemmed to assist with the NLP and grid search later."
   ]
  },
  {
   "cell_type": "code",
   "execution_count": 68,
   "metadata": {},
   "outputs": [],
   "source": [
    "ps = PorterStemmer()\n",
    "\n",
    "post_token_stem = []\n",
    "\n",
    "for post in tv_tokens:\n",
    "    post_stem = []\n",
    "    for word in post:\n",
    "        word_st = ps.stem(word)\n",
    "        post_stem.append(word_st)\n",
    "    post_token_stem.append(post_stem)"
   ]
  },
  {
   "cell_type": "markdown",
   "metadata": {},
   "source": [
    "Combine Stem into Single String"
   ]
  },
  {
   "cell_type": "code",
   "execution_count": 69,
   "metadata": {},
   "outputs": [],
   "source": [
    "# format tokenized stems for vectorizer: list of strings\n",
    "posts_token_stem_combine = []\n",
    "\n",
    "for post in post_token_stem:\n",
    "    posts_token_stem_combine.append(' '.join(post))"
   ]
  },
  {
   "cell_type": "code",
   "execution_count": 70,
   "metadata": {},
   "outputs": [
    {
     "data": {
      "text/plain": [
       "[' by take a shower  by take a shower so everi few week we have a someon who clean our hous today is one of those day well i realiz i have to go to work today so i hop in the shower not think anyth of it i finish up and realiz that the cleaner ha taken all of the towel out of the bathroom to be wash so im stand in the shower ip wet think how im go to go get a towel without traumat the cleaner so i get the great idea to run to my room and hope the cleaner isn t outsid the bathroom i open the door and start my mad dash to my room and i look down the hallway well lo and behold the cleaner is stand in the hallway just stare while im run as fast as i can while not slip i y off and get ess in my room so now im sit in my room make thi post and wonder how im go to pay for the therapi the cleaner is go to requir after see my nake ass slip and slide down the hallway sorri for ani spelling/grammar mistak im so mortifi i cant think straight i traumat my hous cleaner by forget a towel and run nake to my room']"
      ]
     },
     "execution_count": 70,
     "metadata": {},
     "output_type": "execute_result"
    }
   ],
   "source": [
    "posts_token_stem_combine[:1]"
   ]
  },
  {
   "cell_type": "markdown",
   "metadata": {},
   "source": [
    "<a name=\"lem\"></a>\n",
    "### Lemmatizing of Tokens\n",
    "\n",
    "Same as the stemming, a copy of the text will be lemmatized."
   ]
  },
  {
   "cell_type": "code",
   "execution_count": 71,
   "metadata": {},
   "outputs": [],
   "source": [
    "lm = WordNetLemmatizer()\n",
    "\n",
    "post_token_lm = []\n",
    "\n",
    "for post in tv_tokens:\n",
    "    post_lm = []\n",
    "    for word in post:\n",
    "        word_lm = lm.lemmatize(word)\n",
    "        post_lm.append(word_lm)\n",
    "    post_token_lm.append(post)"
   ]
  },
  {
   "cell_type": "code",
   "execution_count": 72,
   "metadata": {},
   "outputs": [
    {
     "data": {
      "text/plain": [
       "[['',\n",
       "  'by',\n",
       "  'taking',\n",
       "  'a',\n",
       "  'shower',\n",
       "  '',\n",
       "  'by',\n",
       "  'taking',\n",
       "  'a',\n",
       "  'shower',\n",
       "  'so',\n",
       "  'every',\n",
       "  'few',\n",
       "  'weeks',\n",
       "  'we',\n",
       "  'have',\n",
       "  'a',\n",
       "  'someone',\n",
       "  'who',\n",
       "  'cleans',\n",
       "  'our',\n",
       "  'house',\n",
       "  'today',\n",
       "  'is',\n",
       "  'one',\n",
       "  'of',\n",
       "  'those',\n",
       "  'days',\n",
       "  'well',\n",
       "  'i',\n",
       "  'realize',\n",
       "  'i',\n",
       "  'have',\n",
       "  'to',\n",
       "  'go',\n",
       "  'to',\n",
       "  'work',\n",
       "  'today',\n",
       "  'so',\n",
       "  'i',\n",
       "  'hop',\n",
       "  'in',\n",
       "  'the',\n",
       "  'shower',\n",
       "  'not',\n",
       "  'thinking',\n",
       "  'anything',\n",
       "  'of',\n",
       "  'it',\n",
       "  'i',\n",
       "  'finish',\n",
       "  'up',\n",
       "  'and',\n",
       "  'realize',\n",
       "  'that',\n",
       "  'the',\n",
       "  'cleaner',\n",
       "  'has',\n",
       "  'taken',\n",
       "  'all',\n",
       "  'of',\n",
       "  'the',\n",
       "  'towels',\n",
       "  'out',\n",
       "  'of',\n",
       "  'the',\n",
       "  'bathroom',\n",
       "  'to',\n",
       "  'be',\n",
       "  'washed',\n",
       "  'so',\n",
       "  'im',\n",
       "  'standing',\n",
       "  'in',\n",
       "  'the',\n",
       "  'shower',\n",
       "  'ipping',\n",
       "  'wet',\n",
       "  'thinking',\n",
       "  'how',\n",
       "  'im',\n",
       "  'going',\n",
       "  'to',\n",
       "  'go',\n",
       "  'get',\n",
       "  'a',\n",
       "  'towel',\n",
       "  'without',\n",
       "  'traumatizing',\n",
       "  'the',\n",
       "  'cleaner',\n",
       "  'so',\n",
       "  'i',\n",
       "  'get',\n",
       "  'the',\n",
       "  'great',\n",
       "  'idea',\n",
       "  'to',\n",
       "  'run',\n",
       "  'to',\n",
       "  'my',\n",
       "  'room',\n",
       "  'and',\n",
       "  'hope',\n",
       "  'the',\n",
       "  'cleaner',\n",
       "  'isn',\n",
       "  't',\n",
       "  'outside',\n",
       "  'the',\n",
       "  'bathroom',\n",
       "  'i',\n",
       "  'open',\n",
       "  'the',\n",
       "  'door',\n",
       "  'and',\n",
       "  'start',\n",
       "  'my',\n",
       "  'mad',\n",
       "  'dash',\n",
       "  'to',\n",
       "  'my',\n",
       "  'room',\n",
       "  'and',\n",
       "  'i',\n",
       "  'look',\n",
       "  'down',\n",
       "  'the',\n",
       "  'hallway',\n",
       "  'well',\n",
       "  'lo',\n",
       "  'and',\n",
       "  'behold',\n",
       "  'the',\n",
       "  'cleaner',\n",
       "  'is',\n",
       "  'standing',\n",
       "  'in',\n",
       "  'the',\n",
       "  'hallway',\n",
       "  'just',\n",
       "  'staring',\n",
       "  'while',\n",
       "  'im',\n",
       "  'running',\n",
       "  'as',\n",
       "  'fast',\n",
       "  'as',\n",
       "  'i',\n",
       "  'can',\n",
       "  'while',\n",
       "  'not',\n",
       "  'slipping',\n",
       "  'i',\n",
       "  'y',\n",
       "  'off',\n",
       "  'and',\n",
       "  'get',\n",
       "  'essed',\n",
       "  'in',\n",
       "  'my',\n",
       "  'room',\n",
       "  'so',\n",
       "  'now',\n",
       "  'im',\n",
       "  'sitting',\n",
       "  'in',\n",
       "  'my',\n",
       "  'room',\n",
       "  'making',\n",
       "  'this',\n",
       "  'post',\n",
       "  'and',\n",
       "  'wondering',\n",
       "  'how',\n",
       "  'im',\n",
       "  'going',\n",
       "  'to',\n",
       "  'pay',\n",
       "  'for',\n",
       "  'the',\n",
       "  'therapy',\n",
       "  'the',\n",
       "  'cleaner',\n",
       "  'is',\n",
       "  'going',\n",
       "  'to',\n",
       "  'require',\n",
       "  'after',\n",
       "  'seeing',\n",
       "  'my',\n",
       "  'naked',\n",
       "  'ass',\n",
       "  'slip',\n",
       "  'and',\n",
       "  'sliding',\n",
       "  'down',\n",
       "  'the',\n",
       "  'hallway',\n",
       "  'sorry',\n",
       "  'for',\n",
       "  'any',\n",
       "  'spelling/grammar',\n",
       "  'mistakes',\n",
       "  'im',\n",
       "  'so',\n",
       "  'mortified',\n",
       "  'i',\n",
       "  'cant',\n",
       "  'think',\n",
       "  'straight',\n",
       "  'i',\n",
       "  'traumatized',\n",
       "  'my',\n",
       "  'house',\n",
       "  'cleaner',\n",
       "  'by',\n",
       "  'forgetting',\n",
       "  'a',\n",
       "  'towel',\n",
       "  'and',\n",
       "  'running',\n",
       "  'naked',\n",
       "  'to',\n",
       "  'my',\n",
       "  'room']]"
      ]
     },
     "execution_count": 72,
     "metadata": {},
     "output_type": "execute_result"
    }
   ],
   "source": [
    "post_token_lm[:1]"
   ]
  },
  {
   "cell_type": "markdown",
   "metadata": {},
   "source": [
    "Combine Lemming into a single string"
   ]
  },
  {
   "cell_type": "code",
   "execution_count": 73,
   "metadata": {},
   "outputs": [],
   "source": [
    "# format tokenized stems for vectorizer: list of strings\n",
    "posts_token_lm_combine = []\n",
    "\n",
    "for post in post_token_lm:\n",
    "    posts_token_lm_combine.append(' '.join(post))"
   ]
  },
  {
   "cell_type": "code",
   "execution_count": 74,
   "metadata": {
    "scrolled": true
   },
   "outputs": [
    {
     "data": {
      "text/plain": [
       "[' by taking a shower  by taking a shower so every few weeks we have a someone who cleans our house today is one of those days well i realize i have to go to work today so i hop in the shower not thinking anything of it i finish up and realize that the cleaner has taken all of the towels out of the bathroom to be washed so im standing in the shower ipping wet thinking how im going to go get a towel without traumatizing the cleaner so i get the great idea to run to my room and hope the cleaner isn t outside the bathroom i open the door and start my mad dash to my room and i look down the hallway well lo and behold the cleaner is standing in the hallway just staring while im running as fast as i can while not slipping i y off and get essed in my room so now im sitting in my room making this post and wondering how im going to pay for the therapy the cleaner is going to require after seeing my naked ass slip and sliding down the hallway sorry for any spelling/grammar mistakes im so mortified i cant think straight i traumatized my house cleaner by forgetting a towel and running naked to my room']"
      ]
     },
     "execution_count": 74,
     "metadata": {},
     "output_type": "execute_result"
    }
   ],
   "source": [
    "posts_token_lm_combine[:1]"
   ]
  },
  {
   "cell_type": "markdown",
   "metadata": {},
   "source": [
    "<a name=\"lemstem\"></a>\n",
    "### Creating Dataframe with Lemming and Stemming\n",
    "\n",
    "The new Lemming and Stemming text will be added into the dataframe"
   ]
  },
  {
   "cell_type": "code",
   "execution_count": 75,
   "metadata": {},
   "outputs": [],
   "source": [
    "df_stlm = pd.DataFrame(data=[posts_token_stem_combine,posts_token_lm_combine], index = ['stem','lem'])"
   ]
  },
  {
   "cell_type": "code",
   "execution_count": 77,
   "metadata": {},
   "outputs": [],
   "source": [
    "#flip the axis\n",
    "df_stlm = df_stlm.T"
   ]
  },
  {
   "cell_type": "code",
   "execution_count": 79,
   "metadata": {},
   "outputs": [],
   "source": [
    "#add the is tifu column to dataframe\n",
    "df_stlm['is_tifu'] = df['is_tifu']"
   ]
  },
  {
   "cell_type": "code",
   "execution_count": 80,
   "metadata": {
    "scrolled": true
   },
   "outputs": [
    {
     "data": {
      "text/html": [
       "<div>\n",
       "<style scoped>\n",
       "    .dataframe tbody tr th:only-of-type {\n",
       "        vertical-align: middle;\n",
       "    }\n",
       "\n",
       "    .dataframe tbody tr th {\n",
       "        vertical-align: top;\n",
       "    }\n",
       "\n",
       "    .dataframe thead th {\n",
       "        text-align: right;\n",
       "    }\n",
       "</style>\n",
       "<table border=\"1\" class=\"dataframe\">\n",
       "  <thead>\n",
       "    <tr style=\"text-align: right;\">\n",
       "      <th></th>\n",
       "      <th>stem</th>\n",
       "      <th>lem</th>\n",
       "      <th>is_tifu</th>\n",
       "    </tr>\n",
       "  </thead>\n",
       "  <tbody>\n",
       "    <tr>\n",
       "      <th>0</th>\n",
       "      <td>by take a shower  by take a shower so everi f...</td>\n",
       "      <td>by taking a shower  by taking a shower so eve...</td>\n",
       "      <td>1</td>\n",
       "    </tr>\n",
       "    <tr>\n",
       "      <th>1</th>\n",
       "      <td>by brows r/fiftyfifti and lose sleep it all b...</td>\n",
       "      <td>by browsing r/fiftyfifty and losing sleep it ...</td>\n",
       "      <td>1</td>\n",
       "    </tr>\n",
       "    <tr>\n",
       "      <th>2</th>\n",
       "      <td>by tell my boss to calm down my boss wa overr...</td>\n",
       "      <td>by telling my boss to calm down my boss was o...</td>\n",
       "      <td>1</td>\n",
       "    </tr>\n",
       "    <tr>\n",
       "      <th>3</th>\n",
       "      <td>by forget an old friend name obligatori discl...</td>\n",
       "      <td>by forgetting an old friends name obligatory ...</td>\n",
       "      <td>1</td>\n",
       "    </tr>\n",
       "    <tr>\n",
       "      <th>4</th>\n",
       "      <td>by flex my live dog on my teacher dead dog i ...</td>\n",
       "      <td>by flexing my living dog on my teachers dead ...</td>\n",
       "      <td>1</td>\n",
       "    </tr>\n",
       "  </tbody>\n",
       "</table>\n",
       "</div>"
      ],
      "text/plain": [
       "                                                stem  \\\n",
       "0   by take a shower  by take a shower so everi f...   \n",
       "1   by brows r/fiftyfifti and lose sleep it all b...   \n",
       "2   by tell my boss to calm down my boss wa overr...   \n",
       "3   by forget an old friend name obligatori discl...   \n",
       "4   by flex my live dog on my teacher dead dog i ...   \n",
       "\n",
       "                                                 lem  is_tifu  \n",
       "0   by taking a shower  by taking a shower so eve...        1  \n",
       "1   by browsing r/fiftyfifty and losing sleep it ...        1  \n",
       "2   by telling my boss to calm down my boss was o...        1  \n",
       "3   by forgetting an old friends name obligatory ...        1  \n",
       "4   by flexing my living dog on my teachers dead ...        1  "
      ]
     },
     "execution_count": 80,
     "metadata": {},
     "output_type": "execute_result"
    }
   ],
   "source": [
    "df_stlm.head()"
   ]
  },
  {
   "cell_type": "code",
   "execution_count": 81,
   "metadata": {},
   "outputs": [],
   "source": [
    "#exporting stem lem dataframe as a csv\n",
    "df_stlm.to_csv(r'../01_data/notebook3_df_stlm.csv', index=False)"
   ]
  },
  {
   "cell_type": "markdown",
   "metadata": {},
   "source": [
    "<p style=\"color:red\">  \n",
    "Look at the top words after stemming. There might likely be interesting changes.\n",
    "</p>\n"
   ]
  },
  {
   "cell_type": "markdown",
   "metadata": {},
   "source": [
    "<p style=\"color:red\">  \n",
    "    <b>Does the student address whether or not they are likely to be able to answer their problem statement with the provided data given what they've discovered during EDA?</b><br>   \n",
    "    Please answer this.\n",
    "</p>\n"
   ]
  },
  {
   "cell_type": "markdown",
   "metadata": {},
   "source": [
    "<a name=\"tt\"></a>\n",
    "### Train-Test Split\n",
    "\n",
    "Now that the dataframe is completed. We can now split the dataframe to a training and testing set to be used for the grid search in the next notebook."
   ]
  },
  {
   "cell_type": "code",
   "execution_count": 82,
   "metadata": {},
   "outputs": [],
   "source": [
    "df_tt = pd.read_csv('../01_data/notebook3_df_stlm.csv')"
   ]
  },
  {
   "cell_type": "code",
   "execution_count": 83,
   "metadata": {},
   "outputs": [
    {
     "data": {
      "text/plain": [
       "stem       3\n",
       "lem        3\n",
       "is_tifu    0\n",
       "dtype: int64"
      ]
     },
     "execution_count": 83,
     "metadata": {},
     "output_type": "execute_result"
    }
   ],
   "source": [
    "#check if there are any null values\n",
    "df_tt.isnull().sum()"
   ]
  },
  {
   "cell_type": "code",
   "execution_count": 84,
   "metadata": {},
   "outputs": [],
   "source": [
    "# remove any nulls\n",
    "df_tt.dropna(inplace = True)"
   ]
  },
  {
   "cell_type": "code",
   "execution_count": 85,
   "metadata": {},
   "outputs": [],
   "source": [
    "# setting the X and y values to the train-test split\n",
    "X = df_tt[['stem','lem']]\n",
    "y = df_tt['is_tifu']"
   ]
  },
  {
   "cell_type": "code",
   "execution_count": 86,
   "metadata": {},
   "outputs": [],
   "source": [
    "X_train, X_test, y_train, y_test = train_test_split(X,y,random_state = 42,stratify = y)"
   ]
  },
  {
   "cell_type": "code",
   "execution_count": 88,
   "metadata": {},
   "outputs": [
    {
     "name": "stdout",
     "output_type": "stream",
     "text": [
      "X_train Length: 1488\n",
      "y_train Length: 1488\n",
      "X_test Length: 496\n",
      "y_test Length: 496\n"
     ]
    }
   ],
   "source": [
    "print('X_train Length: ' + str(len(X_train)))\n",
    "print('y_train Length: ' + str(len(y_train)))\n",
    "print('X_test Length: ' + str(len(X_test)))\n",
    "print('y_test Length: ' + str(len(X_test)))"
   ]
  },
  {
   "cell_type": "code",
   "execution_count": 94,
   "metadata": {},
   "outputs": [],
   "source": [
    "#renaming the column to indicate if the row is r/tifu or not\n",
    "y_train = pd.DataFrame(y_train, columns=['is_tifu'])\n",
    "y_test = pd.DataFrame(y_test, columns = ['is_tifu'])"
   ]
  },
  {
   "cell_type": "code",
   "execution_count": 95,
   "metadata": {
    "scrolled": true
   },
   "outputs": [
    {
     "data": {
      "text/html": [
       "<div>\n",
       "<style scoped>\n",
       "    .dataframe tbody tr th:only-of-type {\n",
       "        vertical-align: middle;\n",
       "    }\n",
       "\n",
       "    .dataframe tbody tr th {\n",
       "        vertical-align: top;\n",
       "    }\n",
       "\n",
       "    .dataframe thead th {\n",
       "        text-align: right;\n",
       "    }\n",
       "</style>\n",
       "<table border=\"1\" class=\"dataframe\">\n",
       "  <thead>\n",
       "    <tr style=\"text-align: right;\">\n",
       "      <th></th>\n",
       "      <th>is_tifu</th>\n",
       "    </tr>\n",
       "  </thead>\n",
       "  <tbody>\n",
       "    <tr>\n",
       "      <th>1832</th>\n",
       "      <td>0</td>\n",
       "    </tr>\n",
       "    <tr>\n",
       "      <th>1590</th>\n",
       "      <td>0</td>\n",
       "    </tr>\n",
       "    <tr>\n",
       "      <th>1739</th>\n",
       "      <td>0</td>\n",
       "    </tr>\n",
       "    <tr>\n",
       "      <th>758</th>\n",
       "      <td>1</td>\n",
       "    </tr>\n",
       "    <tr>\n",
       "      <th>1425</th>\n",
       "      <td>0</td>\n",
       "    </tr>\n",
       "    <tr>\n",
       "      <th>...</th>\n",
       "      <td>...</td>\n",
       "    </tr>\n",
       "    <tr>\n",
       "      <th>1023</th>\n",
       "      <td>0</td>\n",
       "    </tr>\n",
       "    <tr>\n",
       "      <th>975</th>\n",
       "      <td>1</td>\n",
       "    </tr>\n",
       "    <tr>\n",
       "      <th>150</th>\n",
       "      <td>1</td>\n",
       "    </tr>\n",
       "    <tr>\n",
       "      <th>1765</th>\n",
       "      <td>0</td>\n",
       "    </tr>\n",
       "    <tr>\n",
       "      <th>506</th>\n",
       "      <td>1</td>\n",
       "    </tr>\n",
       "  </tbody>\n",
       "</table>\n",
       "<p>1488 rows × 1 columns</p>\n",
       "</div>"
      ],
      "text/plain": [
       "      is_tifu\n",
       "1832        0\n",
       "1590        0\n",
       "1739        0\n",
       "758         1\n",
       "1425        0\n",
       "...       ...\n",
       "1023        0\n",
       "975         1\n",
       "150         1\n",
       "1765        0\n",
       "506         1\n",
       "\n",
       "[1488 rows x 1 columns]"
      ]
     },
     "execution_count": 95,
     "metadata": {},
     "output_type": "execute_result"
    }
   ],
   "source": [
    "y_train"
   ]
  },
  {
   "cell_type": "markdown",
   "metadata": {},
   "source": [
    "<p style=\"color:red\">  \n",
    "    <b>Does the student properly split and/or sample the data for validation/training purposes?</b><br>   \n",
    "    <ul style=\"color:red\">\n",
    "        <li>Split entire dataset into train-dev / test</li>\n",
    "        <li>Split train-dev into train / validation</li>\n",
    "        <li>Fit model using X_train</li>\n",
    "        <li>Score using validation</li>\n",
    "        <li>Refit model with same best params using X_train-dev</li>\n",
    "        <li>Score using test</li>\n",
    "        <li>For a model to have generalized well, both validation and test scores should be similar to train score</li>\n",
    "  <li>You may even experience that test score is better than validation score because you fitted a larger X</li>\n",
    "    </ul>\n",
    "</p>\n"
   ]
  },
  {
   "cell_type": "markdown",
   "metadata": {},
   "source": [
    "<a name=\"base\"></a>\n",
    "### Baseline Accuracy"
   ]
  },
  {
   "cell_type": "markdown",
   "metadata": {},
   "source": [
    "The baseline accuracy is the likelihood of a post being is_tifu=1 based solely on the percentage of our dataset that is our target value."
   ]
  },
  {
   "cell_type": "code",
   "execution_count": 97,
   "metadata": {},
   "outputs": [
    {
     "data": {
      "text/plain": [
       "1    0.502688\n",
       "0    0.497312\n",
       "Name: is_tifu, dtype: float64"
      ]
     },
     "execution_count": 97,
     "metadata": {},
     "output_type": "execute_result"
    }
   ],
   "source": [
    "# baseline accuracy\n",
    "y_train.is_tifu.value_counts(normalize=True)"
   ]
  },
  {
   "cell_type": "markdown",
   "metadata": {},
   "source": [
    "<a name=\"csv\"></a>\n",
    "### Exporting to CSV File"
   ]
  },
  {
   "cell_type": "code",
   "execution_count": 96,
   "metadata": {},
   "outputs": [],
   "source": [
    "X_train.to_csv(r'../01_data/notebook3_X_train.csv', index=True)\n",
    "X_test.to_csv(r'../01_data/notebook3_X_test.csv', index=True)\n",
    "y_train.to_csv(r'../01_data/notebook3_y_train.csv', index=True)\n",
    "y_test.to_csv(r'../01_data/notebook3_y_test.csv', index=True)"
   ]
  }
 ],
 "metadata": {
  "kernelspec": {
   "display_name": "Python 3",
   "language": "python",
   "name": "python3"
  },
  "language_info": {
   "codemirror_mode": {
    "name": "ipython",
    "version": 3
   },
   "file_extension": ".py",
   "mimetype": "text/x-python",
   "name": "python",
   "nbconvert_exporter": "python",
   "pygments_lexer": "ipython3",
   "version": "3.8.5"
  }
 },
 "nbformat": 4,
 "nbformat_minor": 4
}
